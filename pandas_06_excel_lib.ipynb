{
 "cells": [
  {
   "cell_type": "markdown",
   "metadata": {},
   "source": [
    "### openpyxl, XlsxWriter\n",
    "- 엑셀 파일 자체의 파일 format을 분석해 읽고 쓰므로 win, mac, linux에서 모두 사용가능\n",
    "- 엑셀 프로그램이 없어도 됨\n",
    "- 보안 프로그램이 설치된 컴에서 불가할 수 있음\n",
    "- openpyxl : Excel Read, Write 가능\n",
    "- XlsxWriter : Excel Write 만 가능, 서식 지정 기능이 뛰어남\n",
    "\n",
    "### xlwings  \n",
    "- 엑셀 자체를 제어하는 방식이기 때문에 보안 프로그램이 설치된 컴에서도 동작가능\n",
    "- 엑셀 자체를 제어하는 방식으로 동작하기 때문에 엑셀프로그램이 설치되어 있어야 함\n",
    "- 엑셀에서 실시간으로 확인 가능\n",
    "\n",
    "### Excel 문서\n",
    "- WorkBook -> WorkSheet -> Cell\n",
    "\n",
    "1. 생성할 엑셀 파일 이름을 지정해 워크북 객체 생성\n",
    "``` python\n",
    "workbook = xlsxwriter.Workbook(excel_file)\n",
    "```\n",
    "2. WorkBook 내에 사용할 WorkSheet 생성\n",
    "```python\n",
    "worksheet = workbook.add_worksheet([worksheet_name])\n",
    "# worksheet_name이 없는 경우 \"Sheet1\" 부터 자동으로 생성\n",
    "```\n",
    "3. WorkSheet 의 Cell 에 쓰기 작업 수행\n",
    "```python\n",
    "worksheet.write(row, col, cell_data) # 셀 행과 열의 위치로 지정\n",
    "worksheet.write(cell_address, cell_data) # 셀 주소로 지정\n",
    "```\n",
    "4. WorkBook 객체를 닫고 엑셀 파일 생성\n",
    "```python\n",
    "workbook.close()\n",
    "```"
   ]
  },
  {
   "cell_type": "code",
   "execution_count": 3,
   "metadata": {},
   "outputs": [],
   "source": [
    "import xlsxwriter\n",
    "import pandas as pd\n",
    "folder = './example/pyexcel-master/data/ch06/'"
   ]
  },
  {
   "cell_type": "code",
   "execution_count": 6,
   "metadata": {},
   "outputs": [
    {
     "name": "stdout",
     "output_type": "stream",
     "text": [
      "생성한 파일 이름 :  ./example/pyexcel-master/data/ch06/imsi_XlsxWriter_start_01.xlsx\n"
     ]
    }
   ],
   "source": [
    "excel_file = folder + 'imsi_XlsxWriter_start_01.xlsx'\n",
    "workbook = xlsxwriter.Workbook(excel_file) # WorkBook 객체 생성\n",
    "worksheet = workbook.add_worksheet() # WorkSheet 생성\n",
    "# write(row, col, data) <== Row & Col\n",
    "worksheet.write(0, 0, 100)            # 숫자 입력\n",
    "worksheet.write(1, 0, 3.14)           # 숫자 입력\n",
    "worksheet.write(2, 0, '안녕')         # 숫자 입력\n",
    "worksheet.write(3, 0, '=COS(PI()/4)') # 엑셀 함수 입력\n",
    "worksheet.write(4, 0, '')             # 공백 입력\n",
    "worksheet.write(5, 0, None)          # 공백 입력\n",
    "\n",
    "# write(ColRow, data) <== Address\n",
    "worksheet.write('B1', '<-- 숫자(정수) 입력')\n",
    "worksheet.write('B2', '<-- 숫자(실수) 입력')\n",
    "worksheet.write('B3', '<-- 문자열 입력')\n",
    "worksheet.write('B4', '<-- 엑셀 함수 계산 결과')\n",
    "worksheet.write('B5', '<-- 빈 문자로 공백 입력')\n",
    "worksheet.write('B6', '<-- None으로 공백 입력')\n",
    "\n",
    "workbook.close()\n",
    "print(\"생성한 파일 이름 : \", excel_file)"
   ]
  },
  {
   "cell_type": "markdown",
   "metadata": {},
   "source": [
    "### LIst 데이터 쓰기\n",
    "> worksheet.write_row(row, col, list_data)     # 행 방향으로 리스트 데이터 쓰기  \n",
    "> worksheet.write_column(row, col, list_data)  # 열 방향으로 리스트 데이터 쓰기"
   ]
  },
  {
   "cell_type": "code",
   "execution_count": 3,
   "metadata": {},
   "outputs": [
    {
     "name": "stdout",
     "output_type": "stream",
     "text": [
      "생성한 엑셀 파일:  ./example/pyexcel-master/data/ch06/imsi_XlsxWriter_list_data_03.xlsx\n"
     ]
    }
   ],
   "source": [
    "# List 데이터 쓰기\n",
    "excel_file = folder + 'imsi_XlsxWriter_list_data_03.xlsx'\n",
    "workbook = xlsxwriter.Workbook(excel_file)\n",
    "worksheet = workbook.add_worksheet()\n",
    "list_num = [10, 20, 30, 40]\n",
    "list_num2 = [50, 60, 70, 80]\n",
    "worksheet.write_row(0, 1, list_num)  # B1 에서 시작해 행 방향으로 쓰기 ➡\n",
    "worksheet.write_column(1, 0, list_num2)  # A2에서 시작해 열 방향으로 쓰기 ⬇\n",
    "\n",
    "workbook.close()\n",
    "print(\"생성한 엑셀 파일: \", excel_file)"
   ]
  },
  {
   "cell_type": "markdown",
   "metadata": {},
   "source": [
    "### Dict 데이터 쓰기"
   ]
  },
  {
   "cell_type": "code",
   "execution_count": 4,
   "metadata": {},
   "outputs": [
    {
     "name": "stdout",
     "output_type": "stream",
     "text": [
      "생성한 엑셀 파일:  ./example/pyexcel-master/data/ch06/imsi_XlsxWriter_dict_data_01.xlsx\n"
     ]
    }
   ],
   "source": [
    "dict_data = {'제품ID': ['P1001', 'P1002', 'P1003', 'P1004'],\n",
    "            '판매가격': [5000, 7000, 8000, 10000],\n",
    "            '판매량': [50, 93, 70, 48]}\n",
    "excel_file = folder + 'imsi_XlsxWriter_dict_data_01.xlsx'\n",
    "workbook = xlsxwriter.Workbook(excel_file)\n",
    "worksheet = workbook.add_worksheet()\n",
    "\n",
    "list_keys = list(dict_data.keys())\n",
    "list_values = list(dict_data.values())\n",
    "\n",
    "worksheet.write_row(0, 0, list_keys)\n",
    "\n",
    "for col, list_value in enumerate(list_values):\n",
    "    worksheet.write_column(1, col, list_value)\n",
    "    \n",
    "workbook.close()\n",
    "print('생성한 엑셀 파일: ', excel_file)"
   ]
  },
  {
   "cell_type": "markdown",
   "metadata": {},
   "source": [
    "### 판다스 DataFrame 데이터 쓰기  \n",
    "XlsxWriter를 사용해 DataFrame을 Excel에 쓴다.    \n",
    "DataFrame 데이터(df)를 엑셀 파일로 쓰려면 df.to_excel()을 사용한다.\n",
    "\n",
    "1) 쓰기 엔진을 xlsxwriter로 지정해 판다스의 ExcelWriter로 부터 객체 (excel_Writer)를 생성\n",
    "```python\n",
    "excel_writer = pd.ExcelWriter(excel_file, engine = 'xlsxwriter')\n",
    "```\n",
    "2) 생성한 객체(excel_writer)를 이용해 DataFrame 데이터(df)를 쓰기\n",
    "```python\n",
    "df.to_excel(excel_writer, , , )\n",
    "```\n",
    "3) 객체를 닫고 엑셀 파일로 저장\n",
    "```python\n",
    "excel_writer.save()\n",
    "```"
   ]
  },
  {
   "cell_type": "code",
   "execution_count": 7,
   "metadata": {},
   "outputs": [
    {
     "name": "stdout",
     "output_type": "stream",
     "text": [
      "생성한 엑셀 파일 :  ./example/pyexcel-master/data/ch06/imsi_XlsxWriter_DataFrame_data_01.xlsx\n"
     ]
    }
   ],
   "source": [
    "# CSV --> EXCEL\n",
    "csv_file = folder + 'korea_rain.csv'\n",
    "excel_file = folder + 'imsi_XlsxWriter_DataFrame_data_01.xlsx'\n",
    "\n",
    "df = pd.read_csv(csv_file)\n",
    "# 1) 쓰기 엔진과 엑셀 파일을 지정해 ExcelWriter 객체 생성 (excel_writer)\n",
    "excel_writer = pd.ExcelWriter(excel_file, engine='xlsxwriter')\n",
    "# 2) 생성한 엑셀 객체에 DataFrame 데이터(df)를 쓰기 (sheet name 지정)\n",
    "df.to_excel(excel_writer, sheet_name='Sheet1')\n",
    "# 3) 객체를 닫고 엑셀 파일로 저장\n",
    "excel_writer.save()\n",
    "\n",
    "print('생성한 엑셀 파일 : ', excel_file)"
   ]
  },
  {
   "cell_type": "code",
   "execution_count": 5,
   "metadata": {},
   "outputs": [
    {
     "data": {
      "text/html": [
       "<div>\n",
       "<style scoped>\n",
       "    .dataframe tbody tr th:only-of-type {\n",
       "        vertical-align: middle;\n",
       "    }\n",
       "\n",
       "    .dataframe tbody tr th {\n",
       "        vertical-align: top;\n",
       "    }\n",
       "\n",
       "    .dataframe thead th {\n",
       "        text-align: right;\n",
       "    }\n",
       "</style>\n",
       "<table border=\"1\" class=\"dataframe\">\n",
       "  <thead>\n",
       "    <tr style=\"text-align: right;\">\n",
       "      <th></th>\n",
       "      <th>연도</th>\n",
       "      <th>봄</th>\n",
       "      <th>여름</th>\n",
       "      <th>가을</th>\n",
       "      <th>겨울</th>\n",
       "    </tr>\n",
       "  </thead>\n",
       "  <tbody>\n",
       "    <tr>\n",
       "      <th>0</th>\n",
       "      <td>2014</td>\n",
       "      <td>215.9</td>\n",
       "      <td>599.8</td>\n",
       "      <td>293.1</td>\n",
       "      <td>76.9</td>\n",
       "    </tr>\n",
       "    <tr>\n",
       "      <th>1</th>\n",
       "      <td>2015</td>\n",
       "      <td>223.2</td>\n",
       "      <td>387.1</td>\n",
       "      <td>247.7</td>\n",
       "      <td>109.1</td>\n",
       "    </tr>\n",
       "    <tr>\n",
       "      <th>2</th>\n",
       "      <td>2016</td>\n",
       "      <td>312.8</td>\n",
       "      <td>446.2</td>\n",
       "      <td>381.6</td>\n",
       "      <td>108.1</td>\n",
       "    </tr>\n",
       "    <tr>\n",
       "      <th>3</th>\n",
       "      <td>2017</td>\n",
       "      <td>118.6</td>\n",
       "      <td>609.7</td>\n",
       "      <td>172.5</td>\n",
       "      <td>75.6</td>\n",
       "    </tr>\n",
       "    <tr>\n",
       "      <th>4</th>\n",
       "      <td>2018</td>\n",
       "      <td>368.1</td>\n",
       "      <td>586.5</td>\n",
       "      <td>351.2</td>\n",
       "      <td>66.5</td>\n",
       "    </tr>\n",
       "  </tbody>\n",
       "</table>\n",
       "</div>"
      ],
      "text/plain": [
       "     연도      봄     여름     가을     겨울\n",
       "0  2014  215.9  599.8  293.1   76.9\n",
       "1  2015  223.2  387.1  247.7  109.1\n",
       "2  2016  312.8  446.2  381.6  108.1\n",
       "3  2017  118.6  609.7  172.5   75.6\n",
       "4  2018  368.1  586.5  351.2   66.5"
      ]
     },
     "execution_count": 5,
     "metadata": {},
     "output_type": "execute_result"
    }
   ],
   "source": [
    "df"
   ]
  },
  {
   "cell_type": "code",
   "execution_count": null,
   "metadata": {},
   "outputs": [],
   "source": []
  },
  {
   "cell_type": "code",
   "execution_count": null,
   "metadata": {},
   "outputs": [],
   "source": []
  }
 ],
 "metadata": {
  "kernelspec": {
   "display_name": "Python 3",
   "language": "python",
   "name": "python3"
  },
  "language_info": {
   "codemirror_mode": {
    "name": "ipython",
    "version": 3
   },
   "file_extension": ".py",
   "mimetype": "text/x-python",
   "name": "python",
   "nbconvert_exporter": "python",
   "pygments_lexer": "ipython3",
   "version": "3.8.8"
  }
 },
 "nbformat": 4,
 "nbformat_minor": 4
}
