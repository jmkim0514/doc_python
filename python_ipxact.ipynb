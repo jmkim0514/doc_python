{
 "cells": [
  {
   "cell_type": "code",
   "execution_count": null,
   "metadata": {},
   "outputs": [],
   "source": [
    "import xml.etree.ElementTree as ET\n",
    "nsmap = {'1.4'  : ('spirit' , 'http://www.spiritconsortium.org/XMLSchema/SPIRIT/1.4'),\n",
    "         '1.5'  : ('spirit' , 'http://www.spiritconsortium.org/XMLSchema/SPIRIT/1.5'),\n",
    "         '2009' : ('spirit' , 'http://www.spiritconsortium.org/XMLSchema/SPIRIT/1685-2009'),\n",
    "         '2014' : ('ipxact' , 'http://www.accellera.org/XMLSchema/IPXACT/1685-2014'),\n",
    "}\n",
    "nsversion = '1.5'\n",
    "_tag = 'component'\n",
    "ET.register_namespace(nsmap[nsversion][0], nsmap[nsversion][1])\n",
    "S = '{%s}' % nsmap[nsversion][1]\n",
    "#root = ET.Element(S+_tag)\n",
    "#root = ET.Element('spirit', {'attr_value'})\n",
    "#print (S+_tag)\n",
    "#root = ET.Element('spirit')\n",
    "#ET.dump(root)\n",
    "#root = ET.Element(S)\n",
    "#ET.dump(root)\n",
    "#root = ET.Element('sprit:component', {'xmlns:spirit': 'http://www.spiritconsortium.org/XMLSchema/SPIRIT/1.5'})\n",
    "root = ET.Element('sprit:component')\n",
    "ET.dump(root)"
   ]
  },
  {
   "cell_type": "code",
   "execution_count": null,
   "metadata": {},
   "outputs": [],
   "source": [
    "# XML 줄바꿈\n",
    "#자료 출처 https://goo.gl/J8VoDK\n",
    "def indent(elem, level=0): #자료 출처 https://goo.gl/J8VoDK\n",
    "    i = \"\\n\" + level*\"  \"\n",
    "    if len(elem):\n",
    "        if not elem.text or not elem.text.strip():\n",
    "            elem.text = i + \"  \"\n",
    "        if not elem.tail or not elem.tail.strip():\n",
    "            elem.tail = i\n",
    "        for elem in elem:\n",
    "            indent(elem, level+1)\n",
    "        if not elem.tail or not elem.tail.strip():\n",
    "            elem.tail = i\n",
    "    else:\n",
    "        if level and (not elem.tail or not elem.tail.strip()):\n",
    "            elem.tail = i"
   ]
  },
  {
   "cell_type": "code",
   "execution_count": null,
   "metadata": {},
   "outputs": [],
   "source": [
    "_tag = 'component'\n",
    "namespace = 'http://www.accellera.org/XMLSchema/IPXACT/1685-2014'\n",
    "# 파싱할 때는 {namespace} prefix를 반드시 tag 앞에 붙여 줘야 한다.\n",
    "#  ==> {http://www.accellera.org/XMLSchema/IPXACT/1685-2014}component <== why???\n",
    "namespace_prefix = '{'+namespace+'}'\n",
    "# XML 파일들 parsing 전에 ElementTree에 반드시 namespace 등록이 되어 있어야 한다.\n",
    "ET.register_namespace('ipxact', namespace)\n",
    "\n",
    "#doc = ET.parse('data.xml')\n",
    "#root = doc.getroot()\n",
    "#for child in elem.iter(namespace_prefix + 'country'):\n",
    "#    print (child)\n",
    "\n",
    "root = ET.Element(namespace_prefix+'ports')\n",
    "# Element, attribute 추가하는 방법 - 1\n",
    "node0_0 = ET.Element('port', name='i_clk')\n",
    "node0_1 = ET.Element('dir')\n",
    "node0_1.text = 'in'\n",
    "node0_0.append(node0_1)\n",
    "\n",
    "# Element, attribute 추가하는 방법 - 2\n",
    "node1 = ET.Element('port')\n",
    "node1.attrib['name'] = 'o_valid'\n",
    "ET.SubElement(node1, 'dir').text = 'out'\n",
    "\n",
    "root.append(node0_0)\n",
    "root.append(node1)\n",
    "\n",
    "indent(root)   # XML 줄바꿈, 띄어쓰기\n",
    "ET.dump(root)"
   ]
  }
 ],
 "metadata": {
  "kernelspec": {
   "display_name": "Python 3",
   "language": "python",
   "name": "python3"
  },
  "language_info": {
   "codemirror_mode": {
    "name": "ipython",
    "version": 3
   },
   "file_extension": ".py",
   "mimetype": "text/x-python",
   "name": "python",
   "nbconvert_exporter": "python",
   "pygments_lexer": "ipython3",
   "version": "3.8.3"
  }
 },
 "nbformat": 4,
 "nbformat_minor": 4
}
