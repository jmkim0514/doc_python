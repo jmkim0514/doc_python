{
 "cells": [
  {
   "cell_type": "code",
   "execution_count": 1,
   "id": "9df62b60",
   "metadata": {},
   "outputs": [],
   "source": [
    "!jt -t onedork -fs 12 -altp -tfs 12 -cellw 85% -T -N"
   ]
  },
  {
   "cell_type": "code",
   "execution_count": null,
   "id": "45892984",
   "metadata": {},
   "outputs": [],
   "source": [
    "import pandas as pd"
   ]
  },
  {
   "cell_type": "markdown",
   "id": "c7bf3461",
   "metadata": {},
   "source": [
    "pd.read_excel(excel_file)\n",
    "pd.ExcelWriter(excel_file, engine='xlsxwriter')\n",
    "\n",
    "examle)\n",
    "```python\n",
    "excel_writer = pd.ExcelWriter(excel_file, engine='xlsx'writer)\n",
    "imsi = excel_writer.book\n",
    "```\n",
    "\n",
    "\n"
   ]
  },
  {
   "cell_type": "markdown",
   "id": "5ae5a1ca",
   "metadata": {},
   "source": [
    "df = pd.DataFrame()\n",
    "\n",
    "df.read_excel()\n",
    "\n",
    "df.to_excel()\n",
    "\n",
    "df.append()\n",
    "\n",
    "df.sum([axis=0(기본) 혹은 1])  #0:row(세로), 1:col(가로)"
   ]
  },
  {
   "cell_type": "code",
   "execution_count": null,
   "id": "904b5102",
   "metadata": {},
   "outputs": [],
   "source": []
  },
  {
   "cell_type": "markdown",
   "id": "178dae5e",
   "metadata": {},
   "source": [
    "# 순서"
   ]
  },
  {
   "cell_type": "markdown",
   "id": "08054063",
   "metadata": {},
   "source": [
    "\n",
    "## pandas_09_condition_data.ipynb\n",
    "- 지정한 범위에서 데이터 찾아서 가져오기\n",
    "* 조건에 따라 결과 입력하기\n",
    "    * 데이터의 조건에 따라서 결과를 자동으로 셀에 입력\n",
    "\n",
    "df.mean()  \n",
    "df.loc[]\n"
   ]
  },
  {
   "cell_type": "code",
   "execution_count": null,
   "id": "4afaeb33",
   "metadata": {},
   "outputs": [],
   "source": []
  },
  {
   "cell_type": "code",
   "execution_count": null,
   "id": "d408b6d6",
   "metadata": {},
   "outputs": [],
   "source": []
  },
  {
   "cell_type": "code",
   "execution_count": null,
   "id": "cb45c041",
   "metadata": {},
   "outputs": [],
   "source": []
  },
  {
   "cell_type": "code",
   "execution_count": null,
   "id": "1a54aa77",
   "metadata": {},
   "outputs": [],
   "source": []
  }
 ],
 "metadata": {
  "kernelspec": {
   "display_name": "Python 3",
   "language": "python",
   "name": "python3"
  },
  "language_info": {
   "codemirror_mode": {
    "name": "ipython",
    "version": 3
   },
   "file_extension": ".py",
   "mimetype": "text/x-python",
   "name": "python",
   "nbconvert_exporter": "python",
   "pygments_lexer": "ipython3",
   "version": "3.8.8"
  }
 },
 "nbformat": 4,
 "nbformat_minor": 5
}
