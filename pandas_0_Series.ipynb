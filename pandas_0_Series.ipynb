{
 "cells": [
  {
   "cell_type": "markdown",
   "metadata": {},
   "source": [
    "np.nan : 출력에서 NaN은 'Not a Number'로 데이터가 없다는 것을 의미합니다.  \n",
    "test  \n",
    "test\n",
    "\n",
    "```python\n",
    "pd.Series(data[, index = index_data])\n",
    "pd.data_range(start = None, end = None, periods = None, freq = 'D')\n",
    "```\n",
    "\n",
    "\n",
    "|**약어** |**설명**|**부가 설명 및 사용 예**|\n",
    "|:--------|:--------|:--------|\n",
    "| D |달력 날짜 기준 하루 주기  |하루 주기: freq='D'. 이틀 주기: freq='2D'  |\n",
    "| B |업무 날짜 기준 하루 주기  |업무일(월요일~금요일) 기준으로 생성. freq='B', freq='3B'  |\n",
    "| W |요일 시작 기준 일주일 주기  |일요일 기준: freq='W-SUN' 혹은 freq='W'. 월요일 기준: freq='W-MON'. 화요일 기준: freq = 'W-RUE' |\n",
    "| M |월말 날짜 기준 주기  |한 달 주기: freq='M'. 네 달 주기: freq='4M'  |\n",
    "| BM |업무 월말 날짜 기준 주기  |freq = 'BM'. freq = '2BM'  |\n",
    "| MS |월초 날짜 기준 주기  |freq = 'MS'. freq = '3MS'  |\n",
    "| BMS |업무 월초 날짜 기준 주기  |freq = 'BMS'. freq = '3BMS'  |\n",
    "| Q |분기 끝 날짜 기준 주기  |freq = 'Q'. freq = '2Q'  |\n",
    "| BQ |업무 분기 끝 날짜 기준 주기  |freq = 'BQ'. freq = '2BQ'  |\n",
    "| QS |분기 시작 날짜 기준 주기  |freq = 'QS'. freq = '2QS'  |\n",
    "| BQS |업무 분기 시작 날짜 기준 주기  |freq = 'BQS'. freq = '2BQS'  |\n",
    "| A |일년 끝 날짜 기준 주기  |freq = 'A'. freq = '5A'  |\n",
    "| BA |업무 일년 끝 날짜 기준 주기  |freq = 'BA'. freq = '3BA'  |\n",
    "| AS |일년 시작 날짜 기준 주기  |freq = 'AS'. freq = '2AS'  |\n",
    "| BAS |업무 일년 시작 날짜 기준 주기  |freq = 'BAS'. freq = '2BAS'  |\n",
    "| H |시간 기준 주기  |1시간 주기: freq = 'H'. 2시간 주기: freq = '2H'  |\n",
    "| BH |업무 시간 기준 주기  |업무 시간(09:00~17:00) 기준으로 생성  |\n",
    "| T, min |분 주기  |10분 주기: freq = '10T'. 30분 주기: freq = '30min'  |\n",
    "| S |초 주기  |1초 주기: freq = 'S'. 10초 주기: freq = '10S'  |\n",
    "\n",
    "\n",
    "\n"
   ]
  },
  {
   "cell_type": "code",
   "execution_count": 1,
   "metadata": {},
   "outputs": [],
   "source": [
    "import pandas as pd\n",
    "import numpy as np"
   ]
  },
  {
   "cell_type": "code",
   "execution_count": 2,
   "metadata": {},
   "outputs": [],
   "source": [
    "s1 = pd.Series([10, 20 ,30, 40, 50])"
   ]
  },
  {
   "cell_type": "code",
   "execution_count": 3,
   "metadata": {},
   "outputs": [
    {
     "name": "stdout",
     "output_type": "stream",
     "text": [
      "0    10\n",
      "1    20\n",
      "2    30\n",
      "3    40\n",
      "4    50\n",
      "dtype: int64\n",
      "---------\n",
      "RangeIndex(start=0, stop=5, step=1)\n",
      "---------\n"
     ]
    },
    {
     "data": {
      "text/plain": [
       "array([10, 20, 30, 40, 50], dtype=int64)"
      ]
     },
     "execution_count": 3,
     "metadata": {},
     "output_type": "execute_result"
    }
   ],
   "source": [
    "print(s1)\n",
    "print('---------')\n",
    "print(s1.index)\n",
    "print('---------')\n",
    "s1.values"
   ]
  },
  {
   "cell_type": "code",
   "execution_count": 4,
   "metadata": {},
   "outputs": [
    {
     "data": {
      "text/plain": [
       "2020-02-27    3500.0\n",
       "2020-02-28    3579.0\n",
       "2020-02-29       NaN\n",
       "2020-03-01    3782.0\n",
       "dtype: float64"
      ]
     },
     "execution_count": 4,
     "metadata": {},
     "output_type": "execute_result"
    }
   ],
   "source": [
    "index_data = ['2020-02-27', '2020-02-28', '2020-02-29', '2020-03-01']  # 날짜 지정\n",
    "data = [3500, 3579, np.nan, 3782] # 데이터 지정\n",
    "\n",
    "s2 = pd.Series(data, index=index_data)\n",
    "s2"
   ]
  },
  {
   "cell_type": "code",
   "execution_count": 5,
   "metadata": {},
   "outputs": [
    {
     "data": {
      "text/plain": [
       "국어    100\n",
       "영어     95\n",
       "수학     90\n",
       "dtype: int64"
      ]
     },
     "execution_count": 5,
     "metadata": {},
     "output_type": "execute_result"
    }
   ],
   "source": [
    "# Dictionary 로 부터 데이터 생성\n",
    "data = {'국어': 100, '영어': 95, '수학': 90}\n",
    "s3 = pd.Series(data)\n",
    "s3"
   ]
  },
  {
   "cell_type": "code",
   "execution_count": null,
   "metadata": {},
   "outputs": [],
   "source": []
  },
  {
   "cell_type": "code",
   "execution_count": 7,
   "metadata": {},
   "outputs": [
    {
     "data": {
      "text/plain": [
       "2020-02-27    3500.0\n",
       "2020-02-28    3579.0\n",
       "2020-02-29       NaN\n",
       "2020-03-01    3782.0\n",
       "Freq: D, dtype: float64"
      ]
     },
     "execution_count": 7,
     "metadata": {},
     "output_type": "execute_result"
    }
   ],
   "source": [
    "# date_range()를 이용한 날짜 생성\n",
    "index_data = pd.date_range(start='2020-02-27', end='2020-03-01') # 날짜 생성\n",
    "data = [3500, 3579, np.nan, 3782] # 데이터 지정\n",
    "pd.Series(data, index=index_data)"
   ]
  },
  {
   "cell_type": "code",
   "execution_count": 10,
   "metadata": {},
   "outputs": [
    {
     "data": {
      "text/plain": [
       "DatetimeIndex(['2020-07-01', '2020-07-03', '2020-07-05', '2020-07-07',\n",
       "               '2020-07-09'],\n",
       "              dtype='datetime64[ns]', freq='2D')"
      ]
     },
     "execution_count": 10,
     "metadata": {},
     "output_type": "execute_result"
    }
   ],
   "source": [
    "# 시작일 ~ 종료일 이틀 주기(freq='2D')로 날짜 생성\n",
    "pd.date_range(start='2020-07-01', end='2020-07-10', freq='2D')"
   ]
  },
  {
   "cell_type": "code",
   "execution_count": 11,
   "metadata": {},
   "outputs": [
    {
     "data": {
      "text/plain": [
       "DatetimeIndex(['2020-07-01', '2020-07-02', '2020-07-03', '2020-07-04',\n",
       "               '2020-07-05', '2020-07-06', '2020-07-07', '2020-07-08',\n",
       "               '2020-07-09', '2020-07-10', '2020-07-11', '2020-07-12'],\n",
       "              dtype='datetime64[ns]', freq='D')"
      ]
     },
     "execution_count": 11,
     "metadata": {},
     "output_type": "execute_result"
    }
   ],
   "source": [
    "# 시작일 기준으로 설정한 기간(periods=12)동안 날짜 생성\n",
    "pd.date_range(start='2020-07-01', periods=12)"
   ]
  },
  {
   "cell_type": "code",
   "execution_count": 12,
   "metadata": {},
   "outputs": [
    {
     "data": {
      "text/plain": [
       "DatetimeIndex(['2020-07-01', '2020-07-02', '2020-07-03', '2020-07-06',\n",
       "               '2020-07-07', '2020-07-08', '2020-07-09', '2020-07-10',\n",
       "               '2020-07-13', '2020-07-14', '2020-07-15', '2020-07-16'],\n",
       "              dtype='datetime64[ns]', freq='B')"
      ]
     },
     "execution_count": 12,
     "metadata": {},
     "output_type": "execute_result"
    }
   ],
   "source": [
    "# 시작일 기준으로 설정한 기간동안 업무일 기준(freq='B')으로 날짜 생성\n",
    "pd.date_range(start='2020-07-01', periods=12, freq='B')"
   ]
  },
  {
   "cell_type": "code",
   "execution_count": 13,
   "metadata": {},
   "outputs": [
    {
     "data": {
      "text/plain": [
       "DatetimeIndex(['2020-07-01 10:00:00', '2020-07-01 10:30:00',\n",
       "               '2020-07-01 11:00:00', '2020-07-01 11:30:00',\n",
       "               '2020-07-01 12:00:00'],\n",
       "              dtype='datetime64[ns]', freq='30T')"
      ]
     },
     "execution_count": 13,
     "metadata": {},
     "output_type": "execute_result"
    }
   ],
   "source": [
    "# 시작일과 시각 기준으로 설정한 기간동안 날짜 및 시각 생성(freq='30min')\n",
    "pd.date_range(start='2020-07-01 10:00', periods=5, freq='30min')"
   ]
  },
  {
   "cell_type": "code",
   "execution_count": 14,
   "metadata": {},
   "outputs": [
    {
     "data": {
      "text/plain": [
       "B    4.0\n",
       "A    5.0\n",
       "D    2.0\n",
       "C    3.0\n",
       "dtype: float64"
      ]
     },
     "execution_count": 14,
     "metadata": {},
     "output_type": "execute_result"
    }
   ],
   "source": [
    "# Series 데이터를 재배열하는 방법\n",
    "data = {'B':4.0, 'A':5.0, 'D':2.0, 'C':3.0}\n",
    "s4 = pd.Series(data)\n",
    "s4"
   ]
  },
  {
   "cell_type": "code",
   "execution_count": 15,
   "metadata": {},
   "outputs": [
    {
     "data": {
      "text/plain": [
       "A    5.0\n",
       "B    4.0\n",
       "C    3.0\n",
       "D    2.0\n",
       "dtype: float64"
      ]
     },
     "execution_count": 15,
     "metadata": {},
     "output_type": "execute_result"
    }
   ],
   "source": [
    "s4.reindex(['A', 'B', 'C', 'D'])"
   ]
  }
 ],
 "metadata": {
  "kernelspec": {
   "display_name": "Python 3",
   "language": "python",
   "name": "python3"
  },
  "language_info": {
   "codemirror_mode": {
    "name": "ipython",
    "version": 3
   },
   "file_extension": ".py",
   "mimetype": "text/x-python",
   "name": "python",
   "nbconvert_exporter": "python",
   "pygments_lexer": "ipython3",
   "version": "3.8.5"
  }
 },
 "nbformat": 4,
 "nbformat_minor": 4
}
