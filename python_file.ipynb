{
 "cells": [
  {
   "cell_type": "code",
   "execution_count": 2,
   "metadata": {},
   "outputs": [],
   "source": [
    "from pathlib import Path"
   ]
  },
  {
   "cell_type": "code",
   "execution_count": 3,
   "metadata": {},
   "outputs": [
    {
     "name": "stdout",
     "output_type": "stream",
     "text": [
      "..\\data.xml\n",
      "..\\data.out\n"
     ]
    }
   ],
   "source": [
    "# 입력 파일명의 확장자를 바꾸기\n",
    "# Path --> with_suffix\n",
    "input_path = Path('../data.xml')\n",
    "output_path = input_path.with_suffix('.out')\n",
    "print (input_path)\n",
    "print (output_path)"
   ]
  },
  {
   "cell_type": "code",
   "execution_count": 9,
   "metadata": {},
   "outputs": [
    {
     "name": "stdout",
     "output_type": "stream",
     "text": [
      "..\\test\n",
      "data\n",
      "------\n",
      "data_pass\n",
      "..\\test\\data_pass\n",
      "..\\test\\data_pass.csv\n"
     ]
    }
   ],
   "source": [
    "# dir과 file 명 출력\n",
    "input_path = Path('../test/data.xml')\n",
    "input_dir  = input_path.parent   # directory 추출\n",
    "input_stem = input_path.stem     # file name 추출\n",
    "print (input_dir)\n",
    "print (input_stem)\n",
    "print ('------')\n",
    "output_stem_pass = input_stem+'_pass'\n",
    "output_path = (input_dir / output_stem_pass)\n",
    "output_path_ext = (input_dir / output_stem_pass).with_suffix('.csv')\n",
    "print (output_stem_pass)\n",
    "print (output_path)\n",
    "print (output_path_ext)"
   ]
  },
  {
   "cell_type": "code",
   "execution_count": 10,
   "metadata": {},
   "outputs": [
    {
     "name": "stdout",
     "output_type": "stream",
     "text": [
      "file_name\n"
     ]
    }
   ],
   "source": [
    "input_path = Path('/path/to/some/file_name.csv')\n",
    "output_path = input_path.parent / 'output'  # \\path\\to\\some\\output\n",
    "input_stem = input_path.stem                # file_name\n",
    "output_path = (output_path / input_stem).with_suffix('.src')\n",
    "print (input_stem)"
   ]
  }
 ],
 "metadata": {
  "kernelspec": {
   "display_name": "Python 3",
   "language": "python",
   "name": "python3"
  },
  "language_info": {
   "codemirror_mode": {
    "name": "ipython",
    "version": 3
   },
   "file_extension": ".py",
   "mimetype": "text/x-python",
   "name": "python",
   "nbconvert_exporter": "python",
   "pygments_lexer": "ipython3",
   "version": "3.8.3"
  }
 },
 "nbformat": 4,
 "nbformat_minor": 4
}
