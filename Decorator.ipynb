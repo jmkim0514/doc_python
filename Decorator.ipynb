{
 "cells": [
  {
   "cell_type": "markdown",
   "metadata": {},
   "source": [
    "### Descriptor Example 1"
   ]
  },
  {
   "cell_type": "code",
   "execution_count": 5,
   "metadata": {},
   "outputs": [
    {
     "name": "stdout",
     "output_type": "stream",
     "text": [
      "------- Test1 -------\n",
      "I am here\n",
      "------- Test2 -------\n",
      "before...\n",
      "I am here\n",
      "after..\n"
     ]
    }
   ],
   "source": [
    "def wrapper(func):            # decorator는 함수 객체를 인수로 받는다\n",
    "    def wrapper_func():\n",
    "        print('before...')    # 입력 함수 이전에 실행되는 코드\n",
    "        func()                # 입력 함수\n",
    "        print('after..')      # 입력 함수 이후에 실행되는 코드\n",
    "    return wrapper_func       # 입력 함수를 감싼 함수 클로저를 반환한다.\n",
    "\n",
    "def myfunc():\n",
    "    print('I am here')\n",
    "\n",
    "print('------- Test1 -------')\n",
    "myfunc()\n",
    "print('------- Test2 -------')\n",
    "myfunc = wrapper(myfunc)\n",
    "myfunc()"
   ]
  },
  {
   "cell_type": "markdown",
   "metadata": {},
   "source": [
    "### Descriptor Example 2\n",
    "\n",
    "아래 case1과 case2는 같은 의미이다.\n",
    "```python\n",
    "# case.1\n",
    "@wrapper\n",
    "def myfunc2():\n",
    "    pass    \n",
    "# case.2\n",
    "myfunc2 = wrapper(myfunc2)\n",
    "```"
   ]
  },
  {
   "cell_type": "code",
   "execution_count": 6,
   "metadata": {},
   "outputs": [
    {
     "name": "stdout",
     "output_type": "stream",
     "text": [
      "before...\n",
      "I am here 2..\n",
      "after..\n"
     ]
    }
   ],
   "source": [
    "def wrapper(func):            # decorator는 함수 객체를 인수로 받는다\n",
    "    def wrapper_func():\n",
    "        print('before...')    # 입력 함수 이전에 실행되는 코드\n",
    "        func()                # 입력 함수\n",
    "        print('after..')      # 입력 함수 이후에 실행되는 코드\n",
    "    return wrapper_func       # 입력 함수를 감싼 함수 클로저를 반환한다.\n",
    "\n",
    "@wrapper\n",
    "def myfunc2():\n",
    "    print('I am here 2..')\n",
    "\n",
    "myfunc2()"
   ]
  },
  {
   "cell_type": "markdown",
   "metadata": {},
   "source": [
    "### Descriptor Example 3\n",
    "\n",
    "장식된 함수에 인수를 전달하기"
   ]
  },
  {
   "cell_type": "code",
   "execution_count": 7,
   "metadata": {},
   "outputs": [
    {
     "name": "stdout",
     "output_type": "stream",
     "text": [
      "debug 1 2\n"
     ]
    },
    {
     "data": {
      "text/plain": [
       "3"
      ]
     },
     "execution_count": 7,
     "metadata": {},
     "output_type": "execute_result"
    }
   ],
   "source": [
    "def debug(fn):\n",
    "    def wrapper(a, b):\n",
    "        print('debug', a, b)\n",
    "        return fn(a, b)\n",
    "    return wrapper\n",
    "@debug\n",
    "def add(a, b):\n",
    "    return a + b\n",
    "\n",
    "add(1, 2)"
   ]
  },
  {
   "cell_type": "code",
   "execution_count": 10,
   "metadata": {},
   "outputs": [
    {
     "name": "stdout",
     "output_type": "stream",
     "text": [
      "calling add args= (1, 2) kw= {}\n",
      "\tresult= 3\n"
     ]
    },
    {
     "data": {
      "text/plain": [
       "3"
      ]
     },
     "execution_count": 10,
     "metadata": {},
     "output_type": "execute_result"
    }
   ],
   "source": [
    "def debug(fn):\n",
    "    def wrapper(*args, **kw):\n",
    "        print('calling', fn.__name__, 'args=', args, 'kw=', kw)\n",
    "        result = fn(*args, **kw)\n",
    "        print('\\tresult=', result)\n",
    "        return result\n",
    "    return wrapper\n",
    "@debug\n",
    "def add(a, b):\n",
    "    return a + b\n",
    "\n",
    "add(1, 2)"
   ]
  },
  {
   "cell_type": "markdown",
   "metadata": {},
   "source": [
    "### 연결된 Descriptor\n",
    "\n",
    "아래 case.1 case.2 는 동일하다.\n",
    "\n",
    "```python\n",
    "# case.1\n",
    "@A\n",
    "@B\n",
    "def f():\n",
    "    pass\n",
    "# case.2\n",
    "def f():\n",
    "    pass\n",
    "f = A(B(f))\n",
    "\n",
    "```"
   ]
  },
  {
   "cell_type": "code",
   "execution_count": 11,
   "metadata": {},
   "outputs": [
    {
     "data": {
      "text/plain": [
       "'<b><i>hellow</i></b>'"
      ]
     },
     "execution_count": 11,
     "metadata": {},
     "output_type": "execute_result"
    }
   ],
   "source": [
    "def makebold(fn):   # 굵게 만드는 장식자\n",
    "    def wrapper():\n",
    "        return \"<b>\" + fn() + \"</b>\"\n",
    "    return wrapper\n",
    "def makeitalic(fn):  # 기울임꼴로 만드는 장식자.\n",
    "    def wrapper():\n",
    "        return \"<i>\" + fn() + \"</i>\"\n",
    "    return wrapper\n",
    "\n",
    "@makebold\n",
    "@makeitalic\n",
    "def say():\n",
    "    return \"hellow\"\n",
    "\n",
    "say()"
   ]
  },
  {
   "cell_type": "code",
   "execution_count": null,
   "metadata": {},
   "outputs": [],
   "source": []
  },
  {
   "cell_type": "markdown",
   "metadata": {},
   "source": [
    "### 유용한 장식자들\n",
    "\n",
    "counter() : 함수 호출 횟수를 count함\n",
    "\n",
    "logging() : 함수 호출 내용을 logging함\n",
    "\n",
    "benchmark() : 함수 실행 시간을 측정"
   ]
  },
  {
   "cell_type": "code",
   "execution_count": 16,
   "metadata": {},
   "outputs": [],
   "source": [
    "import functools\n",
    "\n",
    "def counter(func):\n",
    "    \"\"\"\n",
    "    함수 호출 횟수를 센다.\n",
    "    \"\"\"\n",
    "    @functools.wraps(func)\n",
    "    def wrapper(*args, **kwargs):\n",
    "        wrapper.count = wrapper.count + 1\n",
    "        res = func(*args, **kwargs)\n",
    "        print(\"{0} : {1} 호출\".format(func.__name__, wrapper.count))\n",
    "        return res\n",
    "    wrapper.count = 0\n",
    "    return wrapper"
   ]
  },
  {
   "cell_type": "code",
   "execution_count": 19,
   "metadata": {},
   "outputs": [],
   "source": [
    "@counter\n",
    "def add(a, b):\n",
    "    return a + b"
   ]
  },
  {
   "cell_type": "code",
   "execution_count": 23,
   "metadata": {},
   "outputs": [
    {
     "name": "stdout",
     "output_type": "stream",
     "text": [
      "add : 4 호출\n"
     ]
    },
    {
     "data": {
      "text/plain": [
       "3"
      ]
     },
     "execution_count": 23,
     "metadata": {},
     "output_type": "execute_result"
    }
   ],
   "source": [
    "add(1, 2)"
   ]
  },
  {
   "cell_type": "code",
   "execution_count": null,
   "metadata": {},
   "outputs": [],
   "source": []
  },
  {
   "cell_type": "code",
   "execution_count": null,
   "metadata": {},
   "outputs": [],
   "source": []
  },
  {
   "cell_type": "code",
   "execution_count": null,
   "metadata": {},
   "outputs": [],
   "source": []
  },
  {
   "cell_type": "code",
   "execution_count": null,
   "metadata": {},
   "outputs": [],
   "source": []
  },
  {
   "cell_type": "code",
   "execution_count": null,
   "metadata": {},
   "outputs": [],
   "source": []
  },
  {
   "cell_type": "code",
   "execution_count": null,
   "metadata": {},
   "outputs": [],
   "source": []
  },
  {
   "cell_type": "code",
   "execution_count": null,
   "metadata": {},
   "outputs": [],
   "source": []
  },
  {
   "cell_type": "code",
   "execution_count": null,
   "metadata": {},
   "outputs": [],
   "source": []
  },
  {
   "cell_type": "code",
   "execution_count": null,
   "metadata": {},
   "outputs": [],
   "source": []
  }
 ],
 "metadata": {
  "kernelspec": {
   "display_name": "Python 3",
   "language": "python",
   "name": "python3"
  },
  "language_info": {
   "codemirror_mode": {
    "name": "ipython",
    "version": 3
   },
   "file_extension": ".py",
   "mimetype": "text/x-python",
   "name": "python",
   "nbconvert_exporter": "python",
   "pygments_lexer": "ipython3",
   "version": "3.8.5"
  }
 },
 "nbformat": 4,
 "nbformat_minor": 4
}
