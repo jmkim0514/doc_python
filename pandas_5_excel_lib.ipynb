{
 "cells": [
  {
   "cell_type": "markdown",
   "metadata": {},
   "source": [
    "### openpyxl, XlsxWriter\n",
    "- 엑셀 파일 자체의 파일 format을 분석해 읽고 쓰므로 win, mac, linux에서 모두 사용가능\n",
    "- 엑셀 프로그램이 없어도 됨\n",
    "- 보안 프로그램이 설치된 컴에서 불가할 수 있음\n",
    "- openpyxl : Excel Read, Write 가능\n",
    "- XlsxWriter : Excel Write 만 가능, 서식 지정 기능이 뛰어남\n",
    "\n",
    "### xlwings  \n",
    "- 엑셀 자체를 제어하는 방식이기 때문에 보안 프로그램이 설치된 컴에서도 동작가능\n",
    "- 엑셀 자체를 제어하는 방식으로 동작하기 때문에 엑셀프로그램이 설치되어 있어야 함\n",
    "- 엑셀에서 실시간으로 확인 가능\n",
    "\n",
    "### Excel 문서\n",
    "- WorkBook -> WorkSheet -> Cell\n",
    "\n",
    "1. 생성할 엑셀 파일 이름을 지정해 워크북 객체 생성\n",
    "``` python\n",
    "workbook = xlsxwriter.Workbook(excel_file)\n",
    "```\n",
    "2. WorkBook 내에 사용할 WorkSheet 생성\n",
    "```python\n",
    "worksheet = workbook.add_worksheet([worksheet_name])\n",
    "# worksheet_name이 없는 경우 \"Sheet1\" 부터 자동으로 생성\n",
    "```\n",
    "3. WorkSheet 의 Cell 에 쓰기 작업 수행\n",
    "```python\n",
    "worksheet.write(row, col, cell_data) # 셀 행과 열의 위치로 지정\n",
    "worksheet.write(cell_address, cell_data) # 셀 주소로 지정\n",
    "```\n",
    "4. WorkBook 객체를 닫고 엑셀 파일 생성\n",
    "```python\n",
    "workbook.close()\n",
    "```"
   ]
  },
  {
   "cell_type": "code",
   "execution_count": 1,
   "metadata": {},
   "outputs": [],
   "source": [
    "import xlsxwriter"
   ]
  },
  {
   "cell_type": "code",
   "execution_count": 2,
   "metadata": {},
   "outputs": [],
   "source": [
    "folder = './example/pyexcel-master/data/ch06/'\n",
    "excel_file = folder + 'imsi_XlsxWriter_start_01.xlsx'"
   ]
  },
  {
   "cell_type": "code",
   "execution_count": 6,
   "metadata": {},
   "outputs": [
    {
     "name": "stdout",
     "output_type": "stream",
     "text": [
      "생성한 파일 이름 :  ./example/pyexcel-master/data/ch06/imsi_XlsxWriter_start_01.xlsx\n"
     ]
    }
   ],
   "source": [
    "workbook = xlsxwriter.Workbook(excel_file) # WorkBook 객체 생성\n",
    "worksheet = workbook.add_worksheet() # WorkSheet 생성\n",
    "# write(row, col, data) <== Row & Col\n",
    "worksheet.write(0, 0, 100)            # 숫자 입력\n",
    "worksheet.write(1, 0, 3.14)           # 숫자 입력\n",
    "worksheet.write(2, 0, '안녕')         # 숫자 입력\n",
    "worksheet.write(3, 0, '=COS(PI()/4)') # 엑셀 함수 입력\n",
    "worksheet.write(4, 0, '')             # 공백 입력\n",
    "worksheet.write(5, 0, None)          # 공백 입력\n",
    "\n",
    "# write(ColRow, data) <== Address\n",
    "worksheet.write('B1', '<-- 숫자(정수) 입력')\n",
    "worksheet.write('B2', '<-- 숫자(실수) 입력')\n",
    "worksheet.write('B3', '<-- 문자열 입력')\n",
    "worksheet.write('B4', '<-- 엑셀 함수 계산 결과')\n",
    "worksheet.write('B5', '<-- 빈 문자로 공백 입력')\n",
    "worksheet.write('B6', '<-- None으로 공백 입력')\n",
    "\n",
    "workbook.close()\n",
    "print(\"생성한 파일 이름 : \", excel_file)"
   ]
  },
  {
   "cell_type": "code",
   "execution_count": null,
   "metadata": {},
   "outputs": [],
   "source": []
  }
 ],
 "metadata": {
  "kernelspec": {
   "display_name": "Python 3",
   "language": "python",
   "name": "python3"
  },
  "language_info": {
   "codemirror_mode": {
    "name": "ipython",
    "version": 3
   },
   "file_extension": ".py",
   "mimetype": "text/x-python",
   "name": "python",
   "nbconvert_exporter": "python",
   "pygments_lexer": "ipython3",
   "version": "3.8.5"
  }
 },
 "nbformat": 4,
 "nbformat_minor": 4
}
