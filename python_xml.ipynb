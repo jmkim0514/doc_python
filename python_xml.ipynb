{
 "cells": [
  {
   "cell_type": "markdown",
   "metadata": {},
   "source": [
    "### XML markup language\n",
    "데이터를 구조화\n",
    "      \n",
    "```xml\n",
    "<leg n=\"1\">test_data</leg>\n",
    "```\n",
    "tag    - tag       - leg\n",
    "\n",
    "attrib - attribute - n (1값을 갖고 있다)\n",
    "\n",
    "text   - value     - test_data\n",
    "\n",
    "### 1. xml.etree.ElementTree functions\n",
    "\n",
    "- dump(elem) : \n",
    "- fromstring(text,parser=None)\n",
    "- parse(source,parser=None)\n",
    "- register_namespace(prefix,uri)\n",
    "- --- ET.register_namespace(self.nsmap[self.nsversion][0], ....}\n",
    "- Element\n",
    "- SubElement(parent,tag,attrib={},): parent에 하위 element를 등록한다. tag, attrib 등록\n",
    "- --- SubElement(root, 'ports').text = 'o_valid' # ports tag 등록한다. 내용은 'o_valid'\n",
    "- ElementTree (element) : ElementTree를 불러온다. 주로 write하기 위해 사용\n",
    "\n",
    "- \n",
    "\n",
    "### 2. xml.etree.ElementTree.Element(tag,attrib={}, ) object\n",
    "각 element에 대한 내장 함수\n",
    "- append : \n",
    "- attrib : element의 attribute 출력\n",
    "- clear : sub element/attrib 제거, text/tail 을 None으로 설정\n",
    "- find('tag') : 현재 element의 하위에 tag와 일치하는 첫번째 태그를 찾아 return\n",
    "- findall('tag') : 현재 element의 하위에 tag와 일치하는 모든 태그를 찾아 list로 return\n",
    "- findtext('tag') : 현재 element의 하위에 tag와 일치하는 첫번째 태그를 찾아 return\n",
    "- iter ('tag') : 현재 element의 아래에 있는 모든 tag를 찾아 list로 return 한다. 없으면 None return\n",
    "- tag : element의 tag 출력\n",
    "- text : element의 data 출력\n",
    "\n",
    "### 3. xml.etree.ElementTree.ElementTree(element=None,file=None) object\n",
    "ElementTree에 대한 내장함수, write를 하려면 ElementTree를 사용해야 한다.\n",
    "- find(match,ns=None): Element.find()와 같으나 tree root에서 시작\n",
    "- findall(match,ns=None): Element.findall()와 같으나 tree root에서 시작\n",
    "- findtext(match,ns=None): Element.findtext()와 같으나 tree root에서 시작\n",
    "- parse(source, parser=None)\n",
    "- write(file, encoding='UTF', xml_declaration=None, default_namespace=None, method=\"xml\", ..)\n",
    "- --- Element Tree를 File로 저장한다.\n",
    "- --- file: 파일 이름이거나 쓰기 위해 열린 파일 객체.\n",
    "- --- xml_declaration: 파일에 XML 선언을 추가한다. 항상 추가하면 True 추가하지 않음 False\n",
    "- --- default_namespace: 기본 XML 이름 공간을 설정합니다 (《xmlns》)\n",
    "- --- method : \"xml\", \"html\" 또는 \"text\"입니다 (기본값은 \"xml\")\n",
    "\n",
    "### ElementTree object\n",
    "XML 문서를 트리 구조로 표현 (import xml.etree.ElementTree as ET)\n",
    "\n",
    "\n",
    "- ET.SubElement(parent, tag, attrib={}, **extra) : parent에 sub element 구현\n",
    "\n",
    "\n",
    "\n",
    "### Element object\n",
    "각 노드를 표현하는 element\n",
    "- append : \n",
    "- attrib : element의 attribute 출력\n",
    "- clear : sub element/attrib 제거, text/tail 을 None으로 설정\n",
    "- extend : \n",
    "- find    ('tag') : 현재 element의 바로 아래에서 tag에 해당하는 첫번째 element를 return\n",
    "- findall ('tag') : 현재 element의 바로 아래에서 tag에 해당하는 element를 검색하여 list로 return\n",
    "- findtext : \n",
    "- get (key, default=None): \n",
    "- getchildren : \n",
    "- getiterator : \n",
    "- insert : \n",
    "- items : \n",
    "- iter ('tag') : 현재 element의 아래에 있는 모든 tag를 찾아 list로 return 한다.\n",
    "- iterfind : \n",
    "- itertext : \n",
    "- keys : \n",
    "- makeelement : \n",
    "- remove : \n",
    "- set : \n",
    "- tag : element의 tag 출력\n",
    "- tail : \n",
    "- text : element의 data 출력\n",
    " \n",
    " \n",
    "참고자료:  https://docs.python.org/ko/3/library/xml.etree.elementtree.html\n"
   ]
  },
  {
   "cell_type": "code",
   "execution_count": 2,
   "metadata": {},
   "outputs": [],
   "source": [
    "%load_ext autoreload\n",
    "%autoreload 2\n",
    "import xml.etree.ElementTree as ET\n",
    "from xml.etree.ElementTree import parse"
   ]
  },
  {
   "cell_type": "code",
   "execution_count": 17,
   "metadata": {},
   "outputs": [
    {
     "data": {
      "text/plain": [
       "['__class__',\n",
       " '__copy__',\n",
       " '__deepcopy__',\n",
       " '__delattr__',\n",
       " '__delitem__',\n",
       " '__dir__',\n",
       " '__doc__',\n",
       " '__eq__',\n",
       " '__format__',\n",
       " '__ge__',\n",
       " '__getattribute__',\n",
       " '__getitem__',\n",
       " '__getstate__',\n",
       " '__gt__',\n",
       " '__hash__',\n",
       " '__init__',\n",
       " '__init_subclass__',\n",
       " '__le__',\n",
       " '__len__',\n",
       " '__lt__',\n",
       " '__ne__',\n",
       " '__new__',\n",
       " '__reduce__',\n",
       " '__reduce_ex__',\n",
       " '__repr__',\n",
       " '__setattr__',\n",
       " '__setitem__',\n",
       " '__setstate__',\n",
       " '__sizeof__',\n",
       " '__str__',\n",
       " '__subclasshook__',\n",
       " 'append',\n",
       " 'attrib',\n",
       " 'clear',\n",
       " 'extend',\n",
       " 'find',\n",
       " 'findall',\n",
       " 'findtext',\n",
       " 'get',\n",
       " 'getchildren',\n",
       " 'getiterator',\n",
       " 'insert',\n",
       " 'items',\n",
       " 'iter',\n",
       " 'iterfind',\n",
       " 'itertext',\n",
       " 'keys',\n",
       " 'makeelement',\n",
       " 'remove',\n",
       " 'set',\n",
       " 'tag',\n",
       " 'tail',\n",
       " 'text']"
      ]
     },
     "execution_count": 17,
     "metadata": {},
     "output_type": "execute_result"
    }
   ],
   "source": [
    "dir(ET.Element)"
   ]
  },
  {
   "cell_type": "code",
   "execution_count": 14,
   "metadata": {},
   "outputs": [],
   "source": [
    "#-== XML Data 읽어 오기\n",
    "tree = ET.parse('./example/ex_race_result.xml')\n",
    "root = tree.getroot()\n",
    "#-== 문자열을 바로 읽어 올 수 있다.\n",
    "#root = ET.fromstring(ex_string)"
   ]
  },
  {
   "cell_type": "code",
   "execution_count": 4,
   "metadata": {},
   "outputs": [
    {
     "name": "stdout",
     "output_type": "stream",
     "text": [
      "results\n",
      "{}\n"
     ]
    }
   ],
   "source": [
    "print(root.tag)      #-== Root에 대한 Tag  (String)\n",
    "print(root.attrib)   #-== Root에 대한 Attribute (Dict)"
   ]
  },
  {
   "cell_type": "code",
   "execution_count": 5,
   "metadata": {},
   "outputs": [
    {
     "name": "stdout",
     "output_type": "stream",
     "text": [
      "legs\n",
      "leg\n",
      "{'n': '1'}\n",
      "ALICANTE - CAPE TOWN\n"
     ]
    }
   ],
   "source": [
    "#-==  root[i][j]   : i=root tag를 제외한 첫번째 sub tag, j=i의 sub tag\n",
    "print(root[0].tag)         #-== 첫번째 element의 tag\n",
    "print(root[0][0].tag)      #-== element tag (string)\n",
    "print(root[0][0].attrib)   #-== element attribute (dictionary)\n",
    "print(root[0][0].text)     #-== element value (string)"
   ]
  },
  {
   "cell_type": "code",
   "execution_count": 6,
   "metadata": {},
   "outputs": [
    {
     "name": "stdout",
     "output_type": "stream",
     "text": [
      "legs {}\n",
      "teams {}\n"
     ]
    }
   ],
   "source": [
    "#-== 자식에 대한 Tag, Attribute\n",
    "for child in root:\n",
    "    print (child.tag, child.attrib)  #-== root[0].tag, root[0].attrib"
   ]
  },
  {
   "cell_type": "code",
   "execution_count": 7,
   "metadata": {},
   "outputs": [
    {
     "name": "stdout",
     "output_type": "stream",
     "text": [
      "ALICANTE - CAPE TOWN\n",
      "CAPE TOWN - ABU DHABI\n",
      "ABU DHABI - SANYA\n",
      "SANYA - AUCKLAND\n",
      "AUCKLAND - ITAJAÍ\n",
      "ITAJAÍ - NEWPORT\n",
      "NEWPORT - LISBON\n",
      "LISBON - LORIENT\n",
      "LORIENT - GOTHENBURG\n"
     ]
    }
   ],
   "source": [
    "#-==  root[0] (root 기준 첫번째 element[0]=<legs>) 에서 모든 <leg>를 찾아 list로 return 한다.\n",
    "for e in root[0].iter('leg'): # r첫번째 element 에서 leg 를 찾는다.\n",
    "    print (e.text)  "
   ]
  },
  {
   "cell_type": "code",
   "execution_count": 8,
   "metadata": {},
   "outputs": [
    {
     "name": "stdout",
     "output_type": "stream",
     "text": [
      "Abu Dhabi Ocean Racing\n",
      "Team Brunel\n",
      "Dongfeng Race Team\n",
      "MAPFRE\n",
      "Team Alvimedica\n",
      "Team SCA\n",
      "Team Vestas Wind\n"
     ]
    }
   ],
   "source": [
    "#-==  root[1] (root 기준 두번째 element[1]=<teams>) 에서 모든 <name>를 찾아 list로 return 한다.\n",
    "for e in root[1].iter('name'):\n",
    "    print (e.text)  "
   ]
  },
  {
   "cell_type": "markdown",
   "metadata": {},
   "source": [
    "### XML Write\n",
    "1. Element(tag) : tag 이름으로 Element를 생성한다.\n",
    "2. SubElement(parent_elem, sub_elem) : parent_elem에 sub_elem을 생성한다.\n",
    "3. ElementTree(elem) : elem을 출력하기 위해 ElementTree에 등록한다.\n",
    "\n",
    "```xml\n",
    "<ip>\n",
    "    <name>ip_name</name>\n",
    "    <ports>\n",
    "        <port name=\"valid\">\n",
    "            <direction>out</direction><left>0</left><right>0</right>\n",
    "        <port>\n",
    "        <port name=\"ready\">\n",
    "            <direction>in</direction><left>0</left><right>0</right>\n",
    "        <port>\n",
    "        <port name=\"addr\">\n",
    "            <direction>out</direction><left>31</left><right>0</right>\n",
    "        <port>\n",
    "    </ports>\n",
    "</ip>\n",
    "```"
   ]
  },
  {
   "cell_type": "code",
   "execution_count": 61,
   "metadata": {},
   "outputs": [],
   "source": [
    "root = ET.Element('ip')\n",
    "ET.SubElement(root, 'name').text = 'ip_name'   #-== root에 name elem 추가\n",
    "ports = ET.SubElement(root, 'ports')           #-== root에 ports elem 추가 - 내용은 없음\n",
    "# valid port 추가\n",
    "port  = ET.Element('port')\n",
    "port.attrib['name'] = 'valid'\n",
    "ET.SubElement(port, 'direction').text = 'out'\n",
    "ET.SubElement(port, 'left'     ).text = '0'\n",
    "ET.SubElement(port, 'right'    ).text = '0'\n",
    "ports.append(port)                            #-== root.ports 에 port elem 추가\n",
    "# ready port 추가\n",
    "port  = ET.Element('port')\n",
    "port.attrib['name'] = 'ready'\n",
    "ET.SubElement(port, 'direction').text = 'in'\n",
    "ET.SubElement(port, 'left'     ).text = '0'\n",
    "ET.SubElement(port, 'right'    ).text = '0'\n",
    "ports.append(port)                            #-== root.ports 에 port elem 추가\n",
    "# addr port 추가\n",
    "port  = ET.Element('port')\n",
    "port.attrib['name'] = 'addr'\n",
    "ET.SubElement(port, 'direction').text = 'out'\n",
    "ET.SubElement(port, 'left'     ).text = '31'\n",
    "ET.SubElement(port, 'right'    ).text = '0'\n",
    "ports.append(port)                            #-== root.ports 에 port elem 추가\n"
   ]
  },
  {
   "cell_type": "code",
   "execution_count": 63,
   "metadata": {},
   "outputs": [],
   "source": [
    "tree = ET.ElementTree(root)\n",
    "tree.write('./example/output.xml')"
   ]
  },
  {
   "cell_type": "code",
   "execution_count": 11,
   "metadata": {},
   "outputs": [],
   "source": [
    "ex_xml = '''\n",
    "<html>\n",
    "    <head>\n",
    "        <title>Example page</title>\n",
    "    </head>\n",
    "    <body>\n",
    "        <p>Moved to <a href=\"http://example.org/\">example.org</a>\n",
    "        or <a href=\"http://example.com/\">example.com</a>.</p>\n",
    "    </body>\n",
    "</html>\n",
    "'''"
   ]
  },
  {
   "cell_type": "code",
   "execution_count": 15,
   "metadata": {},
   "outputs": [],
   "source": [
    "#tree = ET.ElementTree()\n",
    "root = ET.fromstring(ex_xml)"
   ]
  },
  {
   "cell_type": "code",
   "execution_count": null,
   "metadata": {},
   "outputs": [],
   "source": [
    "\n",
    "tree = ET.parse('./example/ex_race_result.xml')\n",
    "root = tree.getroot()\n",
    "#-== 문자열을 바로 읽어 올 수 있다.\n",
    "#root = ET.fromstring(ex_string)"
   ]
  },
  {
   "cell_type": "code",
   "execution_count": null,
   "metadata": {},
   "outputs": [],
   "source": []
  },
  {
   "cell_type": "code",
   "execution_count": null,
   "metadata": {},
   "outputs": [],
   "source": []
  },
  {
   "cell_type": "code",
   "execution_count": 100,
   "metadata": {},
   "outputs": [
    {
     "name": "stdout",
     "output_type": "stream",
     "text": [
      "[<Element 'teams' at 0x000000EF91C761D0>]\n",
      "[]\n",
      "<Element 'teams' at 0x000000EF91C761D0>\n",
      "None\n"
     ]
    }
   ],
   "source": [
    "print(root.findall('teams'))\n",
    "print(root.findall('team'))\n",
    "print(root.find('teams'))\n",
    "print(root.find('team'))"
   ]
  },
  {
   "cell_type": "code",
   "execution_count": 102,
   "metadata": {},
   "outputs": [
    {
     "name": "stdout",
     "output_type": "stream",
     "text": [
      "ALICANTE - CAPE TOWN\n",
      "CAPE TOWN - ABU DHABI\n",
      "ABU DHABI - SANYA\n",
      "SANYA - AUCKLAND\n",
      "AUCKLAND - ITAJAÍ\n",
      "ITAJAÍ - NEWPORT\n",
      "NEWPORT - LISBON\n",
      "LISBON - LORIENT\n",
      "LORIENT - GOTHENBURG\n"
     ]
    }
   ],
   "source": [
    "#-== root[0]          : 첫번째 element ==> <legs>\n",
    "#-== root[0].findall  : <legs>에서 leg를 찾아서 list로 e로 출력\n",
    "for e in root[0].findall('leg'):\n",
    "    print (e.text)\n",
    "    #print (e.tag)\n",
    "    #print (e.find('team'))\n",
    "    #print (e.find('name'))\n",
    "    #print (e.find('position'))\n",
    "    #print (e.find('position').text)\n",
    "    #print (leg.text)"
   ]
  },
  {
   "cell_type": "code",
   "execution_count": 69,
   "metadata": {},
   "outputs": [],
   "source": [
    "tree = ET.parse('./example/ex_xml_country.xml')\n",
    "root = tree.getroot()"
   ]
  },
  {
   "cell_type": "code",
   "execution_count": 70,
   "metadata": {},
   "outputs": [
    {
     "name": "stdout",
     "output_type": "stream",
     "text": [
      "{'name': 'Liechtenstein'}\n",
      "{'name': 'Singapore'}\n",
      "{'name': 'Panama'}\n"
     ]
    }
   ],
   "source": [
    "for country in root.findall('country'):\n",
    "    print (country.attrib)"
   ]
  },
  {
   "cell_type": "code",
   "execution_count": 2,
   "metadata": {},
   "outputs": [],
   "source": [
    "tree = ET.parse('./example/ex_ports.xml')\n",
    "root = tree.getroot()"
   ]
  },
  {
   "cell_type": "code",
   "execution_count": 3,
   "metadata": {},
   "outputs": [
    {
     "name": "stdout",
     "output_type": "stream",
     "text": [
      "busInterface\n",
      "{}\n"
     ]
    }
   ],
   "source": [
    "print (root.tag)\n",
    "print (root.attrib)"
   ]
  },
  {
   "cell_type": "code",
   "execution_count": 4,
   "metadata": {},
   "outputs": [
    {
     "name": "stdout",
     "output_type": "stream",
     "text": [
      "AXI\n",
      "out\n"
     ]
    }
   ],
   "source": [
    "print (root[0].text)\n",
    "print (root[1][0][2].text)"
   ]
  },
  {
   "cell_type": "code",
   "execution_count": 5,
   "metadata": {},
   "outputs": [
    {
     "name": "stdout",
     "output_type": "stream",
     "text": [
      "{'name': 'o_valid'}\n",
      "{'name': 'i_ready'}\n",
      "{'name': 'o_addr'}\n"
     ]
    }
   ],
   "source": [
    "# element 찾기\n",
    "for port in root.iter('port'):\n",
    "    print (port.attrib)"
   ]
  },
  {
   "cell_type": "code",
   "execution_count": 6,
   "metadata": {},
   "outputs": [
    {
     "name": "stdout",
     "output_type": "stream",
     "text": [
      "o_valid out\n",
      "i_ready in\n",
      "o_addr out\n"
     ]
    }
   ],
   "source": [
    "for port in root[1].findall('port'):\n",
    "    name = port.get('name')\n",
    "    direction = port.find('direction').text\n",
    "    print (name, direction)"
   ]
  },
  {
   "cell_type": "code",
   "execution_count": null,
   "metadata": {},
   "outputs": [],
   "source": []
  },
  {
   "cell_type": "code",
   "execution_count": null,
   "metadata": {},
   "outputs": [],
   "source": []
  },
  {
   "cell_type": "code",
   "execution_count": null,
   "metadata": {},
   "outputs": [],
   "source": []
  },
  {
   "cell_type": "code",
   "execution_count": null,
   "metadata": {},
   "outputs": [],
   "source": []
  },
  {
   "cell_type": "code",
   "execution_count": null,
   "metadata": {},
   "outputs": [],
   "source": []
  }
 ],
 "metadata": {
  "kernelspec": {
   "display_name": "Python 3",
   "language": "python",
   "name": "python3"
  },
  "language_info": {
   "codemirror_mode": {
    "name": "ipython",
    "version": 3
   },
   "file_extension": ".py",
   "mimetype": "text/x-python",
   "name": "python",
   "nbconvert_exporter": "python",
   "pygments_lexer": "ipython3",
   "version": "3.8.3"
  }
 },
 "nbformat": 4,
 "nbformat_minor": 4
}
