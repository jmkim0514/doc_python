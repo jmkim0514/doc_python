{
 "cells": [
  {
   "cell_type": "markdown",
   "id": "09f01fb9",
   "metadata": {},
   "source": [
    "### XlsxWriter로 셀 서식 지정\n",
    "\n",
    "```python\n",
    "workbook = xlsxwriter.Workbook(excel_file)\n",
    "worksheet = workbook.add_worksheet([worksheet_name])\n",
    "\n",
    "cell_format = workbook.add_format([props]) # 속성을 지정\n",
    "[cell_format.method()] # 메서드로 서식 추가 지정\n",
    "\n",
    "worksheet.write(row, col, cell_data, cel_format)\n",
    "workbook.close()\n",
    "```\n",
    "add_format()으로 서식 객체(cell_format)를 생성할 때 다양한 속성(props)을 지정할 수 있음  \n",
    "또한 서식 객체의 다양한 메서드 (cell_format.method())를 이용해 서식을 추가로 지정할 수도 있음"
   ]
  },
  {
   "cell_type": "markdown",
   "id": "a0fa1357",
   "metadata": {},
   "source": [
    "- 셀병합\n",
    "```python\n",
    "worksheet.merge_range(row1, col1, row2, col2, cell_data, cell_format)\n",
    "worksheet.merge_range('A3:A4', cell_data, cell_format)\n",
    "```"
   ]
  },
  {
   "cell_type": "markdown",
   "id": "a4de189c",
   "metadata": {},
   "source": [
    "### 글꼴 관련 속성과 메서드  \n",
    "* 서식 객체에서 글꼴 관련 속성 및 메서드\n",
    "\n",
    "\n",
    "|설명 | 속성 | 메서드 | Example |\n",
    "|:--------|:--------|:--------|:--------|\n",
    "|글꼴이름    |font_name      |set_font_name()  |{'font_name': 맑은고딕'}, set_font_name('맑은고딕') |\n",
    "|글꼴크기    |font_size      |set_font_size()  |{'font_size': 20}, set_font_size(20) |\n",
    "|글꼴 색     |font_color     |set_font_color() |{'font_color':'blue'}, set_font_color('blue') |\n",
    "|text 굵게   |bold           |set_bold()       |{'bold':True}, set_bold() |\n",
    "|text 기울임 |italic         |set_italic()     |{'italic':True}, set_italic() |\n",
    "|text 밑줄   |underline      |set_underline()  |{'underline':True}, set_underline() |\n",
    "|text 취소선 |font_strikeout |set_font_strikeout() |{'font_strikeout':True}, set_font_strikeout() |\n",
    "|위아래 첨자 |font_script    |set_font_script()    |{'font_script':1}, set_font_script(1), (1:위첨자,2:아래첨자) |\n",
    "\n",
    "* 색 이름과 RGB 색상 코드\n",
    "\n",
    "|색|이름 |RGB 색상코드 |색|이름 |RGB 색상코드 |\n",
    "|:-|:----|:------------|:-|:----|:-----------|\n",
    "|검은색 |black  |#000000 |남  색 |navy   |#000080 |\n",
    "|파란색 |blue   |#0000FF |주황색 |orange |#FF6600 |\n",
    "|갈  색 |brown  |#800000 |분홍색 |pink   |#FF00FF |\n",
    "|청록색 |cyan   |#00FFFF |보라색 |purple |#800080 |\n",
    "|회  색 |gray   |#808080 |빨간색 |red    |#FF0000 |\n",
    "|녹  색 |green  |#008000 |은  색 |silver |#C0C0C0 |\n",
    "|라임색 |lime   |#00FF00 |흰  색 |white  |#FFFFFF |\n",
    "|자홍색 |magenta|#FF00FF |노란색 |yellow |#FFFF00 |\n"
   ]
  },
  {
   "cell_type": "code",
   "execution_count": 2,
   "id": "d2ddc982",
   "metadata": {},
   "outputs": [],
   "source": [
    "import xlsxwriter\n",
    "import pandas as pd\n",
    "folder = './example/pyexcel-master/data/ch06/'"
   ]
  },
  {
   "cell_type": "code",
   "execution_count": 3,
   "id": "932bf0aa",
   "metadata": {},
   "outputs": [
    {
     "name": "stdout",
     "output_type": "stream",
     "text": [
      "생성한 엑셀 파일 :  ./example/pyexcel-master/data/ch06/imsi_XlsxWriter_cell_format_01.xlsx\n"
     ]
    }
   ],
   "source": [
    "excel_file = folder + 'imsi_XlsxWriter_cell_format_01.xlsx'\n",
    "workbook = xlsxwriter.Workbook(excel_file)\n",
    "worksheet = workbook.add_worksheet()\n",
    "\n",
    "cell_format = workbook.add_format({'font_name':'바탕', 'bold':True, 'font_color':'blue'}) # 속성\n",
    "cell_format.set_italic() # 메서드를 이용한 서식추가\n",
    "cell_format.set_font_size(20) # 메서드를 이용한 서식추가\n",
    "\n",
    "worksheet.write('A1', \"셀 서식 미지정\")\n",
    "worksheet.write('A2', \"셀 서식 지정\", cell_format)\n",
    "\n",
    "workbook.close()\n",
    "print(\"생성한 엑셀 파일 : \", excel_file)\n"
   ]
  },
  {
   "cell_type": "markdown",
   "id": "89681abd",
   "metadata": {},
   "source": [
    "## Cell 채우기 관련 속성과 메서드  \n",
    "|<center>설명<center> |<center>속성<center> |<center>메서드<center> |<center>사용 예<center> |\n",
    "|:--------|:--------|:--------|:--------|\n",
    "|**배경색**     |bg_color |set_bg_color() |{'bg_color':'green'}, set_bg_color('green') |\n",
    "|**무늬 스타일**|pattern  |set_pattern()  |{'pattern': 1}, set_pattern(1) |\n",
    "|**무늬 색**    |fg_color |set_fg_color() |{'fg_color':'red'}, set_fg_color('red') |\n"
   ]
  },
  {
   "cell_type": "code",
   "execution_count": 4,
   "id": "47be2d66",
   "metadata": {},
   "outputs": [
    {
     "name": "stdout",
     "output_type": "stream",
     "text": [
      "생성한 엑셀 파일 :  ./example/pyexcel-master/data/ch06/imsi_XlsxWriter_cell_format_02.xlsx\n"
     ]
    }
   ],
   "source": [
    "excel_file = folder + 'imsi_XlsxWriter_cell_format_02.xlsx'\n",
    "workbook = xlsxwriter.Workbook(excel_file)\n",
    "worksheet = workbook.add_worksheet()\n",
    "# 속성 지정 없이 서식 객체 생성\n",
    "cell_format1 = workbook.add_format()\n",
    "cell_format2 = workbook.add_format()\n",
    "cell_format3 = workbook.add_format()\n",
    "cell_format4 = workbook.add_format()\n",
    "cell_format5 = workbook.add_format()\n",
    "cell_format6 = workbook.add_format()\n",
    "\n",
    "cell_format1.set_bg_color('lime')\n",
    "\n",
    "cell_format2.set_bg_color('blue')\n",
    "cell_format2.set_font_color('white')\n",
    "\n",
    "cell_format3.set_bg_color('red')\n",
    "cell_format3.set_pattern(1)   # 셀의 무늬 스타일 지정 (무늬 없이 배경색으로 채우기)\n",
    "cell_format3.set_font_color('white')\n",
    "\n",
    "cell_format4.set_bg_color('red')\n",
    "cell_format4.set_pattern(6)   # 셀의 무늬 스타일 지정\n",
    "cell_format4.set_font_color('white')\n",
    "\n",
    "cell_format5.set_bg_color('yellow')\n",
    "cell_format5.set_pattern(7)   # 셀의 무늬 스타일 지정 (무늬 없이 배경색으로 채우기)\n",
    "cell_format5.set_font_color('brown')\n",
    "\n",
    "cell_format6.set_bg_color('#FF6600')\n",
    "cell_format6.set_pattern(18)   # 셀의 무늬 스타일 지정\n",
    "cell_format6.set_font_color('brown')\n",
    "\n",
    "# Worksheet의 Cell의 쓰기 작업 수행\n",
    "worksheet.write('B1', '안녕')\n",
    "worksheet.write('B3', '안녕', cell_format1)\n",
    "worksheet.write('B5', '안녕', cell_format2)\n",
    "worksheet.write('B7', '안녕', cell_format3)\n",
    "worksheet.write('D3', '안녕', cell_format4)\n",
    "worksheet.write('D5', '안녕', cell_format5)\n",
    "worksheet.write('D7', '안녕', cell_format6)\n",
    "\n",
    "workbook.close()\n",
    "print('생성한 엑셀 파일 : ', excel_file)"
   ]
  },
  {
   "cell_type": "markdown",
   "id": "3341eea4",
   "metadata": {},
   "source": [
    "## 테두리 관련 속성과 메서드  \n",
    "|<center>설명<center> |<center>속성<center> |<center>메서드<center> |<center>사용 예<center> |\n",
    "|:--------|:--------|:--------|:--------|\n",
    "|**모든   테두리**   |border       |set_border()       |{'border':1}, set_border(1) |\n",
    "|**아래쪽 테두리**   |bottom       |set_bottom()       |{'bottom':3}, set_bottom(3) |\n",
    "|**위쪽   테두리**   |top          |set_top()          |{'top':6}, set_top(6)       |\n",
    "|**왼쪽   테두리**   |left         |set_left()         |{'left':9}, set_left(9)     |\n",
    "|**오른쪽 테두리**   |right        |set_right()        |{'right':13}, set_right(13) |\n",
    "|**모든   테두리 색**|border_color |set_border_color() |{'border_color':'blue'}, set_border_color('blue') |\n",
    "|**아래쪽 테두리 색**|bottom_color |set_bottom_color() |{'bottom_color':'green'}, set_bottom_color('green') |\n",
    "|**위쪽   테두리 색**|top_color    |set_top_color()    |{'top_color':'purple'}, set_top_color('purple') |\n",
    "|**왼쪽   테두리 색**|left_color   |set_left_color()   |{'left_color':'yellow'}, set_left_color('yellow') |\n",
    "|**오른쪽 테두리 색**|right_color  |set_right_color()  |{'right_color':'magenta'}, set_right_color('magenta') |\n",
    "\n",
    "<img src=\".\\example\\image\\서식_테두리스타일.jpg\" width=\"20%\" height=\"40%\">"
   ]
  },
  {
   "cell_type": "code",
   "execution_count": 5,
   "id": "7806045c",
   "metadata": {},
   "outputs": [
    {
     "name": "stdout",
     "output_type": "stream",
     "text": [
      "생성한 엑셀 파일 :  ./example/pyexcel-master/data/ch06/imsi_XlsxWriter_cell_format_03.xlsx\n"
     ]
    }
   ],
   "source": [
    "excel_file = folder + 'imsi_XlsxWriter_cell_format_03.xlsx'\n",
    "workbook = xlsxwriter.Workbook(excel_file)\n",
    "worksheet = workbook.add_worksheet()\n",
    "# 속성 지정 없이 서식 객체 생성\n",
    "cell_format1 = workbook.add_format()\n",
    "cell_format2 = workbook.add_format()\n",
    "cell_format3 = workbook.add_format()\n",
    "cell_format4 = workbook.add_format()\n",
    "cell_format5 = workbook.add_format()\n",
    "cell_format6 = workbook.add_format()\n",
    "\n",
    "cell_format1.set_border(1)  # 모든 테두리 (1: 가는 실선)\n",
    "cell_format2.set_border(2)  # 모든 테두리 (2: 중간실선)\n",
    "cell_format2.set_border_color('blue')  # 테두리 색 설정 (파란색)\n",
    "cell_format3.set_bottom(8)  # 아래쪽 테두리 (8: 중간 파선)\n",
    "cell_format4.set_left(2)    # 왼쪽 테두리 (2: 중간 실선)\n",
    "cell_format5.set_right(5)   # 오른쪽 테두리 (5: 굵은 실선)\n",
    "cell_format6.set_border(6)  # 모든 테두리 (6: 이중 실선)\n",
    "\n",
    "# Worksheet의 Cell의 쓰기 작업 수행\n",
    "worksheet.write('B1', '안녕')\n",
    "worksheet.write('B3', '안녕', cell_format1)\n",
    "worksheet.write('B5', '안녕', cell_format2)\n",
    "worksheet.write('B7', '안녕', cell_format3)\n",
    "worksheet.write('D3', '안녕', cell_format4)\n",
    "worksheet.write('D5', '안녕', cell_format5)\n",
    "worksheet.write('D7', '안녕', cell_format6)\n",
    "\n",
    "workbook.close()\n",
    "print('생성한 엑셀 파일 : ', excel_file)"
   ]
  },
  {
   "cell_type": "markdown",
   "id": "3b0902ca",
   "metadata": {},
   "source": [
    "## 맞춤 관련 속성과 메서드\n",
    "- 서식 객체에서 셀의 맞춤 관련 속성 method\n",
    "\n",
    "|설명 |속성 |메서드 |사용 예 |\n",
    "|:----|:----|:------|:-------|\n",
    "|가로맞춤     |align         |set_align()         |{'align': 'center'}, set_align('center') (맞춤 종류는 아래 표 참조)|\n",
    "|세로맞춤     |valign        |set_align()         |{'valign': 'vcenter'}, set_align('vcenter') (맞춤 종류는 아래 표 참조) |\n",
    "|들여쓰기     |indent        |set_indent()        |{'indent': 1}, set_indent(1) (숫자: 들여쓰기 단계) |\n",
    "|텍스트 회전  |rotation      |set_rotation()      |{'rotation': 30}, set_rotation(30) (숫자: 회전각도) |\n",
    "|자동 줄 바꿈 |text_wrap     |set_test_wrap()     |{'text_wrap': True}, set_text_wrap() |\n",
    "|셀에 맞춤    |shrink        |set_shrink()        |{'shrink': True}, set_shrink() |\n",
    "|셀 병합      |center_across |set_center_across() |{'center_across': True}, set_center_across() |\n",
    "|텍스트 방향  |reading_order |set_reading_order() |{'reading_order': 1}, set_reading_order(1) (1:왼쪽에서 오른쪽, 2: 오른쪽에서 왼쪽)  |\n",
    "\n",
    "- 가로/세로 맞춤 종류와 지정 이름\n",
    "\n",
    "|가로 맞춤 종류 |라로 맞춤 이름 |세로 맞춤 종류 |세로 맞춤 이름 |\n",
    "|:- |:- |:- |:- |\n",
    "|왼쪽                 |left          |위쪽            |top          |\n",
    "|가운데(가로)         |center        |가운데(세로)    |vcenter      |\n",
    "|오른쪽               |right         |아래쪽          |bottom       |\n",
    "|채우기               |fill          |-               |-            |\n",
    "|양쪽 맞춤(가로)      |justify       |양쪽 맞춤(세로) |vjustify     |\n",
    "|선택 영역의 가운데로 |center_across |-               |-            |\n",
    "|균등 분할(가로)      |distributed   |균등 분할(세로) |vdistributed |"
   ]
  },
  {
   "cell_type": "code",
   "execution_count": 6,
   "id": "48b14388",
   "metadata": {},
   "outputs": [
    {
     "name": "stdout",
     "output_type": "stream",
     "text": [
      "생성한 엑셀 파일 :  ./example/pyexcel-master/data/ch06/imsi_XlsxWriter_cell_format_07.xlsx\n"
     ]
    }
   ],
   "source": [
    "excel_file = folder + 'imsi_XlsxWriter_cell_format_07.xlsx'\n",
    "workbook = xlsxwriter.Workbook(excel_file)\n",
    "worksheet = workbook.add_worksheet()\n",
    "# 속성 지정 없이 서식 객체 생성\n",
    "cell_format1 = workbook.add_format({'align': 'left'})    # 가로맞춤: 왼쪽\n",
    "cell_format2 = workbook.add_format({'align': 'center'})  # 가로맞춤: 가운데\n",
    "cell_format3 = workbook.add_format({'align': 'right'})   # 가로맞춤: 오른쪽\n",
    "\n",
    "cell_format4 = workbook.add_format({'align': 'top'})     # 세로맞춤: 위쪽\n",
    "cell_format5 = workbook.add_format({'align': 'vcenter'}) # 세로맞춤: 가운데\n",
    "cell_format6 = workbook.add_format({'align': 'bottom'})  # 세로맞춤: 아래쪽\n",
    "\n",
    "cell_format7 = workbook.add_format({'align': 'center', 'valign': 'vcenter'})  # 가운데, 가운데\n",
    "\n",
    "# Worksheet의 Cell의 쓰기 작업 수행\n",
    "worksheet.write('A1', '텍스트 맞춤(서식지정 없음)')\n",
    "worksheet.write('A2', '텍스트 맞춤(가로맞춤: 왼쪽)', cell_format1)\n",
    "worksheet.write('A3', '텍스트 맞춤(가로맞춤: 가운데)', cell_format2)\n",
    "worksheet.write('A4', '텍스트 맞춤(가로맞춤: 오른쪽)', cell_format3)\n",
    "worksheet.write('A5', '텍스트 맞춤(가로맞춤: 위쪽)', cell_format4)\n",
    "worksheet.write('A6', '텍스트 맞춤(가로맞춤: 가운데)', cell_format5)\n",
    "worksheet.write('A7', '텍스트 맞춤(가로맞춤: 아래쪽)', cell_format6)\n",
    "worksheet.write('A8', '텍스트 맞춤(가로맞춤: 가운데 + 세로맞춤: 가운데)', cell_format7)\n",
    "\n",
    "workbook.close()\n",
    "print('생성한 엑셀 파일 : ', excel_file)"
   ]
  },
  {
   "cell_type": "markdown",
   "id": "3368334c",
   "metadata": {},
   "source": [
    "## 행과 열의 높이와 너비 지정  \n",
    "```python\n",
    "worksheet.set_row(row, height[, cell_format])\n",
    "worksheet.set_column(first_col, last_col, width[, cell_format])\n",
    "```\n",
    "\n",
    "- row : 행 번호로 0부터 시작되는 정수\n",
    "- height : 행의 높이로 0보다 큰 실수 (기본값: 16.5)\n",
    "- first_col, last_col : 너비를 지정할 열의 시작과 끝번호 (0부터 시작) (하나의 열만 지정하는 경우 같은 first/last는 같은 숫자 사용)\n",
    "- width : 열의 너비로 0보다 큰 실수"
   ]
  },
  {
   "cell_type": "code",
   "execution_count": 7,
   "id": "1e61b363",
   "metadata": {},
   "outputs": [
    {
     "name": "stdout",
     "output_type": "stream",
     "text": [
      "생성한 엑셀 파일 :  ./example/pyexcel-master/data/ch06/imsi_XlsxWriter_cell_format_08.xlsx\n"
     ]
    }
   ],
   "source": [
    "excel_file = folder + 'imsi_XlsxWriter_cell_format_08.xlsx'\n",
    "workbook = xlsxwriter.Workbook(excel_file)\n",
    "worksheet = workbook.add_worksheet()\n",
    "\n",
    "# 행의 높이 지정\n",
    "worksheet.set_row(0, 20) # 1행, 높이 20\n",
    "worksheet.set_row(1, 40) # 2행, 높이 40\n",
    "worksheet.set_row(2, 60) # 3행, 높이 60\n",
    "\n",
    "worksheet.set_column(0, 0, 15)  # A열, 너비 15\n",
    "worksheet.set_column(1, 2, 20)  # B~C열, 너비 20\n",
    "worksheet.set_column(3, 3, 25)  # D열, 너비 25\n",
    "\n",
    "worksheet.write('A1', '높이: 20, 너비: 15')\n",
    "worksheet.write('A2', '높이: 40, 너비: 15')\n",
    "worksheet.write('A3', '높이: 60, 너비: 15')\n",
    "\n",
    "worksheet.write('B1', '높이: 20, 너비: 20')\n",
    "worksheet.write('B2', '높이: 40, 너비: 20')\n",
    "worksheet.write('B3', '높이: 60, 너비: 20')\n",
    "\n",
    "worksheet.write('C1', '높이: 20, 너비: 20')\n",
    "worksheet.write('C2', '높이: 40, 너비: 20')\n",
    "worksheet.write('C3', '높이: 60, 너비: 20')\n",
    "\n",
    "worksheet.write('D1', '높이: 20, 너비: 25')\n",
    "worksheet.write('D2', '높이: 40, 너비: 25')\n",
    "worksheet.write('D3', '높이: 60, 너비: 25')\n",
    "\n",
    "\n",
    "workbook.close()\n",
    "print('생성한 엑셀 파일 : ', excel_file)"
   ]
  },
  {
   "cell_type": "markdown",
   "id": "fe29c8ae",
   "metadata": {},
   "source": [
    "## 숫자 형식 관련 속성과 메서드\n",
    "셀에 입력한 데이터(숫자, 날짜, 시간 등)에 출력 형식을 지정해 다양한 형식으로 표시할 수 있음\n",
    "\n",
    "- 서식 객체에서 셀의 출력 형식 지정 관련 속성 및 메서드\n",
    "|<center>설명<center> |<center>속성<center> |<center>메서드<center> |<center>사용 예<center> |\n",
    "|:--------|:--------|:--------|:--------|\n",
    "|**출력 형식 지정**   |num_format       |set_num_format()       |{'num_format':3}, {'num_format':'#,##0'}, set_num_format(3), set_num_format('#,##0')\n",
    "\n",
    "- 숫자 표시 관련 서식 지정 인덱스와 문자열\n",
    "|<center>인덱스<center> |<center>서식 지정 문자열<center> |<center>설  명<center> |\n",
    "|:--------|:--------|:--------|\n",
    "|**0** |General                       |입력한 대로 표시 |\n",
    "|**1** |0                             |정수로 표시, 소수점 이하는 반올림 |\n",
    "|**2** |0.00                          |소수점 둘째 자리까지 반올림해 표시 |\n",
    "|**3** |#,##0                         |1000단위마다 쉽표(,). 정수로 표시 |\n",
    "|**4** |#,##0.00                      |1000단위마다 쉼표(,). 소수점 둘째 자리까지 표시 |\n",
    "|**5** |($\\$$#,##0_);($\\$$#,##0)            |통화 기호 표시, 인덱스 3과 동일. 양수, 0과 음수 따로 표시 |\n",
    "|**6** |($\\$$#,##0_);$[$Red$]$($\\$$#,##0)       |인덱스 5와 동일. 음수는 빨간색으로 표시 |\n",
    "|**7** |($\\$$#,##0.00_);($\\$$#,##0.00)      |통화 기호 표시. 인덱스 4와 동일. 양소, 0과 음수 따로 표시 |\n",
    "|**8** |($\\$$#,##0.00_);$[$Red$]$($\\$$#,##0.00) |인덱스 7과 동일. 음수는 빨간색으로 표시 |\n",
    "|**9** |0%                            |퍼센트로 변환해 % 기호와 함께 정수만 표시 |\n",
    "|**10**|0.00%                         |퍼센트로 변환해 % 기호와 함께 소수점 둘째 자리까지 표시 |\n",
    "|**11**|0.00E+00                      |소수점 둘째 자리에서 지수로 표시 |\n",
    "|**12**|# ?/?                         |소수점 이하를 분수로 표시. 분모와 분자를 한 자리 수로 표시 |\n",
    "|**13**|# ??/??                       |소수점 이하를 분수로 표시. 분모와 분자를 두 자리 수로 표시 |"
   ]
  },
  {
   "cell_type": "markdown",
   "id": "24a7c926",
   "metadata": {},
   "source": [
    "- 날짜와 시각표시 관련 서식 지정 인덱스와 문자열\n",
    "|<center>인덱스<center> |<center>서식 지정 문자열<center> |<center>설  명<center> |\n",
    "|:--------|:--------|:--------|\n",
    "|**14** |m/d/y         |월/일/연도(2자리). 한글 로케일에서는 연도(4자리)-월(2자리)-일(2자리)|\n",
    "|**15** |d-mmm-yy      |일(1자리, 10 이상은 2자리)-월(영어 약자)-연도(2 자리)               |\n",
    "|**16** |d-mmm         |일(1자리, 10 이상은 2자리)-월(영어 약자)                            |\n",
    "|**17** |mmm-yy        |월(영어 약자)-연도(2 자리)                                          |\n",
    "|**18** |h:mm AM/PM    |시(1자리, 10 이상은 2자리):분(2 자리) AM/PM 표시                    |\n",
    "|**19** |h:mm:ss AM/PM |시(1자리, 10 이상은 2자리):분(2 자리)                               |\n",
    "|**20** |h:mm          |시(1자리, 10 이상은 2자리):분(2자리)                                |\n",
    "|**21** |h:mm:ss       |시(1자리, 10 이상은 2자리):분(2자리):초(2 자리)                     |\n",
    "|**22** |m/d/yy h:mm   |인덱스 14와 20의 조합                                               |"
   ]
  },
  {
   "cell_type": "code",
   "execution_count": 5,
   "id": "716decd0",
   "metadata": {},
   "outputs": [],
   "source": [
    "import xlsxwriter\n",
    "folder = './example/pyexcel-master/data/ch06/'\n",
    "excel_file = folder + 'imsi_XlsxWriter_cell_format_04.xlsx'\n",
    "workbook = xlsxwriter.Workbook(excel_file) # 1) workbook 생성\n",
    "worksheet = workbook.add_worksheet() # 2) worksheet 생성"
   ]
  },
  {
   "cell_type": "code",
   "execution_count": 6,
   "id": "0e4f13de",
   "metadata": {},
   "outputs": [
    {
     "name": "stdout",
     "output_type": "stream",
     "text": [
      "생성한 엑셀 파일 :  ./example/pyexcel-master/data/ch06/imsi_XlsxWriter_cell_format_04.xlsx\n"
     ]
    }
   ],
   "source": [
    "cell_format_border = workbook.add_format() # 3) 셀 서식 지정\n",
    "cell_format_border.set_border(1) # 셀의 모든 테두리 (1:가는실선)\n",
    "# 리스트 컴프리헨션으로 서식 객체 리스트를 생성\n",
    "cell_formats = [workbook.add_format() for k in range(8)]\n",
    "# 메서드를 이용해 서식 지정\n",
    "for k in range(8):\n",
    "    cell_formats[k].set_num_format(k+1) # 서식 객체마다 메서드로 출력 형식 지정\n",
    "# 4) worksheet cell에 쓰기 작업 수행\n",
    "num_data1 = 1234.567\n",
    "num_data2 = -1234.567\n",
    "worksheet.write(0, 0, '입력', cell_format_border)\n",
    "worksheet.write(0, 1, num_data1, cell_format_border)\n",
    "worksheet.write(0, 2, num_data2, cell_format_border)\n",
    "worksheet.write(2, 0, '인덱스')\n",
    "worksheet.write(2, 1, '서식 지정 출력 결과')\n",
    "worksheet.write(2, 2, '서식 지정 출력 결과')\n",
    "for k in range(8):\n",
    "    row = k + 3 # 행 위치 지정\n",
    "    index = k + 1 # 인덱스 표시를 위한 지정\n",
    "    worksheet.write(row, 0, index) # 셀에 셀 서식 지정 없이 쓰기\n",
    "    worksheet.write(row, 1, num_data1, cell_formats[k])\n",
    "    worksheet.write(row, 2, num_data2, cell_formats[k])\n",
    "workbook.close()\n",
    "print('생성한 엑셀 파일 : ', excel_file)"
   ]
  },
  {
   "cell_type": "markdown",
   "id": "e695e437",
   "metadata": {},
   "source": [
    "### 숫자를 퍼센트, 지수, 분수로 출력 형식을 지정해 셀체 출력"
   ]
  },
  {
   "cell_type": "code",
   "execution_count": 2,
   "id": "b20dec91",
   "metadata": {},
   "outputs": [],
   "source": [
    "import xlsxwriter\n",
    "folder = './example/pyexcel-master/data/ch06/'\n",
    "excel_file = folder + 'imsi_XlsxWriter_cell_format_05.xlsx'\n",
    "workbook = xlsxwriter.Workbook(excel_file) # 1) workbook 객체 생성\n",
    "worksheet = workbook.add_worksheet() # 2) worksheet 객체 생성\n",
    "cell_format_border = workbook.add_format() # 3) cell 서식 객체 생성"
   ]
  },
  {
   "cell_type": "code",
   "execution_count": 3,
   "id": "f052a8af",
   "metadata": {},
   "outputs": [
    {
     "name": "stdout",
     "output_type": "stream",
     "text": [
      "생성한 엑셀 파일 :  ./example/pyexcel-master/data/ch06/imsi_XlsxWriter_cell_format_05.xlsx\n"
     ]
    }
   ],
   "source": [
    "# 메서드를 이용해 서식 지정\n",
    "cell_formats = [workbook.add_format() for k in range(5)]\n",
    "for k in range(5):\n",
    "    cell_formats[k].set_num_format(k+9)\n",
    "# worksheet cell에 쓰기 작업 수행\n",
    "num_data = [0.98765, 0.98765, 300000000, 18.25, 20.39]\n",
    "worksheet.write(0, 0, '인덱스')\n",
    "worksheet.write(0, 1, '입력한 숫자')\n",
    "worksheet.write(0, 2, '서식 지정 출력 결과')\n",
    "\n",
    "for k in range(5):\n",
    "    index = k + 0 # index\n",
    "    worksheet.write(k+1, 0, index)\n",
    "    worksheet.write(k+1, 1, num_data[k])\n",
    "    worksheet.write(k+1, 2, num_data[k], cell_formats[k])\n",
    "workbook.close()\n",
    "print('생성한 엑셀 파일 : ', excel_file)"
   ]
  },
  {
   "cell_type": "markdown",
   "id": "1b99e608",
   "metadata": {},
   "source": [
    "### 날짜와 시각의 서식을 지정하는 예제"
   ]
  },
  {
   "cell_type": "code",
   "execution_count": 23,
   "id": "4ab943e4",
   "metadata": {},
   "outputs": [],
   "source": [
    "import xlsxwriter\n",
    "from datetime import datetime\n",
    "folder = './example/pyexcel-master/data/ch06/'\n",
    "excel_file = folder + 'imsi_XlsxWriter_cell_format_06.xlsx'\n",
    "workbook = xlsxwriter.Workbook(excel_file) # 1) workbook 객체 생성\n",
    "worksheet = workbook.add_worksheet() # 2) worksheet 객체 생성"
   ]
  },
  {
   "cell_type": "code",
   "execution_count": 24,
   "id": "5655f741",
   "metadata": {},
   "outputs": [],
   "source": [
    "# 3) 셀 서식 지정을 위한 서식 객체 생성\n",
    "datetime_formats = ['m/d/yy',        # 인덱스 14\n",
    "                   'd-mmm-yyy',     # 인덱스 15\n",
    "                   'd-mmm',         # 인덱스 16\n",
    "                   'mmm-yy',        # 인덱스 17\n",
    "                   'h:mm AM/PM',    # 인덱스 18\n",
    "                   'h:mm:ss AM/PM', # 인덱스 19\n",
    "                   'h:mm',          # 인덱스 20\n",
    "                   'h:mm:ss',       # 인덱스 21\n",
    "                   'm/d/yy h:mm',   # 인덱스 22\n",
    "                   'yyyy\"년\" mm\"월\" dd\"일\"',          # 한글 날짜 표시\n",
    "                   'yyyy\"년\" mm\"월\" dd\"일\" hh:mm:ss', # 한글 날짜 시각 표시\n",
    "                   'yy\"년\" m\"월\" d\"일\"',              # 한글 날짜 표시\n",
    "                   'yy\"년\" m\"월\" d\"일\" hh:mm:ss',     # 한글 날짜 시각 표시\n",
    "                  ]\n",
    "cell_formats = [workbook.add_format() for k in range(13)]\n",
    "for k in range(13):\n",
    "    if (k < 9): cell_formats[k].set_num_format(k + 14)\n",
    "    else      : cell_formats[k].set_num_format(datetime_formats[k])"
   ]
  },
  {
   "cell_type": "code",
   "execution_count": 25,
   "id": "89e62a16",
   "metadata": {},
   "outputs": [
    {
     "name": "stdout",
     "output_type": "stream",
     "text": [
      "생성한 엑셀 파일 :  ./example/pyexcel-master/data/ch06/imsi_XlsxWriter_cell_format_06.xlsx\n"
     ]
    }
   ],
   "source": [
    "cell_format = workbook.add_format({'bold':True})\n",
    "# 4) worksheet cell에 쓰기 작업 수행\n",
    "datetime_data = datetime(2021, 4, 8, 17, 38, 59) # 날짜 및 시각 데이터 생성\n",
    "worksheet.write(0, 0, '인텍스', cell_format)\n",
    "worksheet.write(0, 1, '서식 지정 문자열', cell_format)\n",
    "worksheet.write(0, 2, '서식 지정 출력 결과', cell_format)\n",
    "# cell에 쓰기\n",
    "for k in range(13):\n",
    "    index = k + 14\n",
    "    row = k + 1\n",
    "    if(k < 9): worksheet.write(row, 0, index)\n",
    "    else     : worksheet.write(row, 0, '한글로 날짜 서식 지정')\n",
    "    worksheet.write(row, 1, datetime_formats[k])\n",
    "    worksheet.write(row, 2, datetime_data, cell_formats[k])\n",
    "workbook.close()\n",
    "\n",
    "print('생성한 엑셀 파일 : ', excel_file)"
   ]
  },
  {
   "cell_type": "markdown",
   "id": "9dfb435f",
   "metadata": {},
   "source": [
    "### XlsxWriter로 그림과 텍스트 상자 삽입\n",
    "```python\n",
    "worksheet.insert_image(row, col, image_file[, options])\n",
    "or\n",
    "worksheet.imsert_image(cell_address, image_file[, options])\n",
    "```\n",
    "#### options\n",
    "|<center>설명<center>|<center>선택변수<center>|<center>기본값<center>|<center>사용 예<center>|\n",
    "|:--------|:--------|:--------|:--------|\n",
    "|**가로 위치 오프셋** |x_offset |0 |{'x_offset':5} |\n",
    "|**세로 위치 오프셋** |y_offset |0 |{'y_offset':10} |\n",
    "|**가로 크기 배율**   |x_scale  |1 |{'x_scale':0.9} |\n",
    "|**세로 크기 배율**   |y_scale  |1 |{'y_scale':1.2} |\n",
    "\n",
    "- x_offset/y_offset : 셀의 좌측 상단에서 그림의 좌측 상단까지의 가로와 세로 위치 차이인 offset\n",
    "- x_scale/y_scale : 원본 그림 대비 가로와 세로 크키 배율 (1:원본Size)"
   ]
  },
  {
   "cell_type": "code",
   "execution_count": 27,
   "id": "0bf9e49f",
   "metadata": {},
   "outputs": [],
   "source": [
    "import xlsxwriter\n",
    "folder = './example/pyexcel-master/data/ch06/'"
   ]
  },
  {
   "cell_type": "code",
   "execution_count": 31,
   "id": "2f4e933f",
   "metadata": {},
   "outputs": [
    {
     "name": "stdout",
     "output_type": "stream",
     "text": [
      "생성한 엑셀 파일 :  ./example/pyexcel-master/data/ch06/imsi_XlsxWriter_insert_image_01.xlsx\n"
     ]
    }
   ],
   "source": [
    "excel_file = folder + 'imsi_XlsxWriter_insert_image_01.xlsx'\n",
    "image_file = './example/pyexcel-master/figures/book_image.png'\n",
    "workbook = xlsxwriter.Workbook(excel_file) # 1)\n",
    "worksheet = workbook.add_worksheet() # 2)\n",
    "worksheet.set_column(0, 0, 35) # 3) 행과 열의 높이 지정 A0 너비 지정\n",
    "worksheet.write(1, 0, '그림 삽입(옵션 지정 없음):')\n",
    "worksheet.insert_image(1, 1, image_file)\n",
    "\n",
    "worksheet.write(8, 0, '그림 삽입(가로와 세로 위치 오프셋 조정):')\n",
    "worksheet.write(9, 0, \"==> {'x_offset':25, 'y_offset':10}\")\n",
    "worksheet.insert_image(8, 1, image_file, {'x_offset':25, 'y_offset':10})\n",
    "\n",
    "worksheet.write(15, 0, '그림 삽입(크기 확대):')\n",
    "worksheet.write(16, 0, \"==> {'x_scale':1.5, 'y_scale':1.5}\")\n",
    "worksheet.insert_image(15, 1, image_file, {'x_scale':1.5, 'y_scale':1.5})\n",
    "\n",
    "worksheet.write(25, 0, '그림 삽입(크기 축소):')\n",
    "worksheet.write(26, 0, \"==> {'x_scale':0.75, 'y_scale':0.75}\")\n",
    "worksheet.insert_image(25, 1, image_file, {'x_scale':0.75, 'y_scale':0.75})\n",
    "\n",
    "workbook.close()\n",
    "print('생성한 엑셀 파일 : ', excel_file)"
   ]
  },
  {
   "cell_type": "markdown",
   "id": "e2314d4f",
   "metadata": {},
   "source": [
    "### 셀에 텍스트 상자 삽입\n",
    "```python\n",
    "worksheet.insert_textbox(row, col, text[, options]) # 셀에 텍스트 상자 삽입\n",
    "or\n",
    "worksheet.insert_textbox(cell_address, text[, options]) # 셀에 텍스트 상자 삽입\n",
    "```"
   ]
  },
  {
   "cell_type": "markdown",
   "id": "e11345d9",
   "metadata": {},
   "source": [
    "- 텍스트 상자 삽입을 위한 옵션의 선택 변수\n",
    "|<center>설명<center>|<center>선택변수<center>|<center>기본값<center>|<center>사용 예<center>|\n",
    "|:--------|:--------|:--------|:--------|\n",
    "|**가로 위치 오프셋**|x_offset |0             |{'x_offset':5} |\n",
    "|**세로 위치 오프셋**|y_offset |0             |{'y_offset':10} |\n",
    "|**가로 크기 배율**  |x_scale  |1             |{'x_scale':0.9} |\n",
    "|**세로 크기 배율**  |y_scale  |1             |{'y_scale':1.2} |\n",
    "|**가로 크기(너비)** |width    |열 3개의 너비 |{'width':250} |\n",
    "|**세로 크기(높이)** |height   |행 6개의 높이 |{'height':30} |\n",
    "|**글꼴 속성**       |font     |기본 글꼴 속성|'font':{'bold':True, 'size':15} |\n",
    "|**채우기 속성**     |fill     |채우기 없음   |'fill':{'color':'blue'} |\n",
    "|**테두리 속성**     |border   |테두리 없음   |{'border':{'color':'black', 'width':3} |\n",
    "|**맞춤 속성**       |align    |기본 맟춤 속성|{'align':{'vertical':'middle', 'horizontal':'center'} |"
   ]
  },
  {
   "cell_type": "markdown",
   "id": "802fdcf6",
   "metadata": {},
   "source": [
    "- 텍스트 상자 삽입의 글꼴 속성 옵션을 위한 하위 선택 변수\n",
    "|<center>설명<center>|<center>선택변수<center>|<center>기본값<center>|<center>사용 예<center>|\n",
    "|:--------|:--------|:--------|:--------|\n",
    "|**글꼴 이름**    |name     |기본글꼴|{'name':'맑은 고딕'} |\n",
    "|**글꼴 크기**    |size     |기본크기|{'size':12}          |\n",
    "|**텍스트 굵게**  |bold     |False   |{'bold':True}        |\n",
    "|**텍스트 기울임**|italic   |False   |{'italic':True}      |\n",
    "|**텍스트 밑줄**  |underline|False   |{'underline':True}   |\n",
    "|**글꼴 색**      |color    |black   |{'color':'blue'}     |\n",
    "    \n",
    "- 텍스트 상자 삽입의 맞춤 속성 업션을 위한 하위 선택 변수\n",
    "|<center>설명<center>|<center>선택변수<center>|<center>기본값<center>|<center>사용 예<center>|\n",
    "|:--------|:--------|:--------|:--------|\n",
    "|**가로 맞춤**|horizontal |left |{'horizontal':'left'}, {'horizontal':'center'}                  |\n",
    "|**세로 맞춤**|vertical   |top  |{'vertical':'top'}, {'vertical':'middle'}, {'vertical':'bottom'}|"
   ]
  },
  {
   "cell_type": "code",
   "execution_count": 2,
   "id": "f544dbc5",
   "metadata": {},
   "outputs": [],
   "source": [
    "import xlsxwriter\n",
    "folder = './example/pyexcel-master/data/ch06/'\n",
    "excel_file = folder + 'imsi_XlsxWriter_insert_textbox_01.xlsx'\n",
    "workbook = xlsxwriter.Workbook(excel_file)\n",
    "worksheet = workbook.add_worksheet()"
   ]
  },
  {
   "cell_type": "code",
   "execution_count": 3,
   "id": "3286fbb3",
   "metadata": {},
   "outputs": [
    {
     "name": "stdout",
     "output_type": "stream",
     "text": [
      "생성한 엑셀 파일 :  ./example/pyexcel-master/data/ch06/imsi_XlsxWriter_insert_textbox_01.xlsx\n"
     ]
    }
   ],
   "source": [
    "worksheet.set_column(0, 0, 40)\n",
    "text = '텍스트 상자' # 4) 워크시트의 셀에 쓰기와 텍스트 상자 삽입 작업 수행\n",
    "worksheet.write(1, 0, '텍스트 상자 삽입(옵션 지정 없음):')\n",
    "worksheet.insert_textbox(1, 1, text)\n",
    "\n",
    "worksheet.write(8, 0, '텍스트 상자 삽입(위치 오프셋과 크기 조정):')\n",
    "worksheet.write(9, 0, \"{'x_offset':25, 'y_offset':10,\")\n",
    "worksheet.write(10, 0, \"'width': 240, 'height':100}\")\n",
    "\n",
    "# 텍스트 상자의 맞춤 속성과 글꼴 속성 지정\n",
    "options = {'align':{'vertical': 'middle', 'horizontal':'center'},\n",
    "           'font':{'bold':True, 'size':15}}\n",
    "worksheet.insert_textbox(16, 1, text, options)\n",
    "# 텍스트 상자 삽입: 테두리, 채우기 속성 지정\n",
    "worksheet.write(23, 0, \"텍스트 상자 삽입(테두리, 채우기 속성 지정):\")\n",
    "worksheet.write(24, 0, \"{'border':{'color':'black', 'width':2}},\")\n",
    "worksheet.write(25, 0, \"{'fill': {'color':'yellow'}\")\n",
    "\n",
    "# 텍스트 상자의 테두리 속성과 채우기 속성 지정\n",
    "options = {'border':{'color':'black', 'width':2}, 'fill':{'color':'yellow'}}\n",
    "worksheet.insert_textbox(23, 1, text, options)\n",
    "workbook.close()\n",
    "print('생성한 엑셀 파일 : ', excel_file)"
   ]
  },
  {
   "cell_type": "code",
   "execution_count": null,
   "id": "82ac9b4b",
   "metadata": {},
   "outputs": [],
   "source": []
  },
  {
   "cell_type": "code",
   "execution_count": null,
   "id": "9e061535",
   "metadata": {},
   "outputs": [],
   "source": []
  },
  {
   "cell_type": "code",
   "execution_count": null,
   "id": "2fd245fc",
   "metadata": {},
   "outputs": [],
   "source": []
  }
 ],
 "metadata": {
  "kernelspec": {
   "display_name": "Python 3",
   "language": "python",
   "name": "python3"
  },
  "language_info": {
   "codemirror_mode": {
    "name": "ipython",
    "version": 3
   },
   "file_extension": ".py",
   "mimetype": "text/x-python",
   "name": "python",
   "nbconvert_exporter": "python",
   "pygments_lexer": "ipython3",
   "version": "3.8.8"
  }
 },
 "nbformat": 4,
 "nbformat_minor": 5
}
