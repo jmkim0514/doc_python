{
 "cells": [
  {
   "cell_type": "markdown",
   "metadata": {},
   "source": [
    "## Descriptor란\n",
    "\n",
    "#### 다음 3개의 메소드를 가지는 클래스\n",
    "\n",
    "```python\n",
    "__get__(self, instance, class)\n",
    "__set__(self, instance, value)\n",
    "__delete__(self, instance)\n",
    "```\n",
    "#### self는 Descriptor 클래스의 인스턴스\n",
    "#### Instance는 class로 생성되는 인스턴스\n",
    "#### 다른 클래스 변수에 descriptor 인스턴스를 할당해서 사용"
   ]
  },
  {
   "cell_type": "code",
   "execution_count": null,
   "metadata": {},
   "outputs": [],
   "source": []
  },
  {
   "cell_type": "code",
   "execution_count": null,
   "metadata": {},
   "outputs": [],
   "source": []
  },
  {
   "cell_type": "code",
   "execution_count": null,
   "metadata": {},
   "outputs": [],
   "source": []
  },
  {
   "cell_type": "code",
   "execution_count": null,
   "metadata": {},
   "outputs": [],
   "source": []
  }
 ],
 "metadata": {
  "kernelspec": {
   "display_name": "Python 3",
   "language": "python",
   "name": "python3"
  },
  "language_info": {
   "codemirror_mode": {
    "name": "ipython",
    "version": 3
   },
   "file_extension": ".py",
   "mimetype": "text/x-python",
   "name": "python",
   "nbconvert_exporter": "python",
   "pygments_lexer": "ipython3",
   "version": "3.8.5"
  }
 },
 "nbformat": 4,
 "nbformat_minor": 4
}
